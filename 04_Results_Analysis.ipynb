{
 "cells": [
  {
   "cell_type": "markdown",
   "metadata": {
    "collapsed": true,
    "pycharm": {
     "name": "#%% md\n"
    }
   },
   "source": [
    "## Analysis\n",
    "- PR curve"
   ]
  },
  {
   "cell_type": "code",
   "execution_count": null,
   "outputs": [],
   "source": [
    "import pandas as pd\n",
    "import numpy as np\n",
    "from sklearn.metrics import PrecisionRecallDisplay\n",
    "\n",
    "class Results:\n",
    "\n",
    "    X_test: pd.DataFrame\n",
    "    y_test: pd.Series\n",
    "\n",
    "    def __init__(self):\n",
    "        for\n",
    "            with open()\n",
    "\n",
    "    def confusion_matrix(self):\n",
    "        self.cumulative_cf_matrix = confusion_matrix(self.results['y'], self.results['y_pred'])\n",
    "        self.cumulative_cf_matrix = np.asarray(self.cumulative_cf_matrix)\n",
    "\n",
    "        diagonal_values = [self.cumulative_cf_matrix[i][i] for i in range(self.n_cancer_types)]\n",
    "        self.classifier_accuracy = sum(diagonal_values) / len(self.results)\n",
    "\n",
    "        fig, ax = plt.subplots(figsize=(8,8))\n",
    "        _ = ax.imshow(self.cumulative_cf_matrix, cmap='Blues')\n",
    "\n",
    "        ax.set_title('Cumulative Confusion Matrix')\n",
    "        fig.tight_layout()\n",
    "\n",
    "        ax.set_xticks(range(self.n_cancer_types)), ax.set_yticks(range(self.n_cancer_types))\n",
    "        ax.set_xticklabels(self.cancer_types), ax.set_yticklabels(self.cancer_types)\n",
    "\n",
    "        text_colors = ['k', 'w']\n",
    "        text_color_threshold = 25\n",
    "        for i in range(self.n_cancer_types):\n",
    "            for j in range(self.n_cancer_types):\n",
    "                _ = ax.text(j, i, self.cumulative_cf_matrix[i, j],\n",
    "                            ha=\"center\", va=\"center\", color=text_colors[self.cumulative_cf_matrix[i, j] > text_color_threshold])\n",
    "\n",
    "    def pr_curve(self):\n",
    "\n",
    "        display = PrecisionRecallDisplay.from_estimator(\n",
    "            classifier, X_test, y_test, name=\"LinearSVC\"\n",
    "        )\n",
    "        _ = display.ax_.set_title(\"2-class Precision-Recall curve\")"
   ],
   "metadata": {
    "collapsed": false,
    "pycharm": {
     "name": "#%%\n"
    }
   }
  }
 ],
 "metadata": {
  "kernelspec": {
   "display_name": "Python 3",
   "language": "python",
   "name": "python3"
  },
  "language_info": {
   "codemirror_mode": {
    "name": "ipython",
    "version": 2
   },
   "file_extension": ".py",
   "mimetype": "text/x-python",
   "name": "python",
   "nbconvert_exporter": "python",
   "pygments_lexer": "ipython2",
   "version": "2.7.6"
  }
 },
 "nbformat": 4,
 "nbformat_minor": 0
}