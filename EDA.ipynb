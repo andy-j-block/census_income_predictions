{
 "cells": [
  {
   "cell_type": "code",
   "execution_count": 1,
   "metadata": {
    "collapsed": true
   },
   "outputs": [],
   "source": [
    "import pandas as pd\n",
    "import pickle\n",
    "\n",
    "class EDA:\n",
    "\n",
    "    def __init__(self, filename: str):\n",
    "        with open(f'./pickles/{filename}.obj', 'rb') as f:\n",
    "            self.df = pickle.load(f)"
   ]
  },
  {
   "cell_type": "code",
   "execution_count": 2,
   "outputs": [],
   "source": [
    "eda = EDA()"
   ],
   "metadata": {
    "collapsed": false,
    "pycharm": {
     "name": "#%%\n"
    }
   }
  },
  {
   "cell_type": "code",
   "execution_count": 3,
   "outputs": [
    {
     "data": {
      "text/plain": "   age                  class of worker  detailed industry recode  \\\n0   73                  Not in universe                         0   \n1   58   Self-employed-not incorporated                         4   \n2   18                  Not in universe                         0   \n3    9                  Not in universe                         0   \n4   10                  Not in universe                         0   \n\n   detailed occupation recode                    education  wage per hour  \\\n0                           0         High school graduate              0   \n1                          34   Some college but no degree              0   \n2                           0                   10th grade              0   \n3                           0                     Children              0   \n4                           0                     Children              0   \n\n  enroll in edu inst last wk    marital stat           major industry code  \\\n0            Not in universe         Widowed   Not in universe or children   \n1            Not in universe        Divorced                  Construction   \n2                High school   Never married   Not in universe or children   \n3            Not in universe   Never married   Not in universe or children   \n4            Not in universe   Never married   Not in universe or children   \n\n                  major occupation code  ... country of birth father  \\\n0                       Not in universe  ...           United-States   \n1   Precision production craft & repair  ...           United-States   \n2                       Not in universe  ...                 Vietnam   \n3                       Not in universe  ...           United-States   \n4                       Not in universe  ...           United-States   \n\n  country of birth mother country of birth self  \\\n0           United-States         United-States   \n1           United-States         United-States   \n2                 Vietnam               Vietnam   \n3           United-States         United-States   \n4           United-States         United-States   \n\n                            citizenship own business or self employed  \\\n0     Native- Born in the United States                             0   \n1     Native- Born in the United States                             0   \n2   Foreign born- Not a citizen of U S                              0   \n3     Native- Born in the United States                             0   \n4     Native- Born in the United States                             0   \n\n  fill inc questionnaire for veteran's admin  veterans benefits  \\\n0                            Not in universe                  2   \n1                            Not in universe                  2   \n2                            Not in universe                  2   \n3                            Not in universe                  0   \n4                            Not in universe                  0   \n\n   weeks worked in year  year     target  \n0                     0    95   - 50000.  \n1                    52    94   - 50000.  \n2                     0    95   - 50000.  \n3                     0    94   - 50000.  \n4                     0    94   - 50000.  \n\n[5 rows x 42 columns]",
      "text/html": "<div>\n<style scoped>\n    .dataframe tbody tr th:only-of-type {\n        vertical-align: middle;\n    }\n\n    .dataframe tbody tr th {\n        vertical-align: top;\n    }\n\n    .dataframe thead th {\n        text-align: right;\n    }\n</style>\n<table border=\"1\" class=\"dataframe\">\n  <thead>\n    <tr style=\"text-align: right;\">\n      <th></th>\n      <th>age</th>\n      <th>class of worker</th>\n      <th>detailed industry recode</th>\n      <th>detailed occupation recode</th>\n      <th>education</th>\n      <th>wage per hour</th>\n      <th>enroll in edu inst last wk</th>\n      <th>marital stat</th>\n      <th>major industry code</th>\n      <th>major occupation code</th>\n      <th>...</th>\n      <th>country of birth father</th>\n      <th>country of birth mother</th>\n      <th>country of birth self</th>\n      <th>citizenship</th>\n      <th>own business or self employed</th>\n      <th>fill inc questionnaire for veteran's admin</th>\n      <th>veterans benefits</th>\n      <th>weeks worked in year</th>\n      <th>year</th>\n      <th>target</th>\n    </tr>\n  </thead>\n  <tbody>\n    <tr>\n      <th>0</th>\n      <td>73</td>\n      <td>Not in universe</td>\n      <td>0</td>\n      <td>0</td>\n      <td>High school graduate</td>\n      <td>0</td>\n      <td>Not in universe</td>\n      <td>Widowed</td>\n      <td>Not in universe or children</td>\n      <td>Not in universe</td>\n      <td>...</td>\n      <td>United-States</td>\n      <td>United-States</td>\n      <td>United-States</td>\n      <td>Native- Born in the United States</td>\n      <td>0</td>\n      <td>Not in universe</td>\n      <td>2</td>\n      <td>0</td>\n      <td>95</td>\n      <td>- 50000.</td>\n    </tr>\n    <tr>\n      <th>1</th>\n      <td>58</td>\n      <td>Self-employed-not incorporated</td>\n      <td>4</td>\n      <td>34</td>\n      <td>Some college but no degree</td>\n      <td>0</td>\n      <td>Not in universe</td>\n      <td>Divorced</td>\n      <td>Construction</td>\n      <td>Precision production craft &amp; repair</td>\n      <td>...</td>\n      <td>United-States</td>\n      <td>United-States</td>\n      <td>United-States</td>\n      <td>Native- Born in the United States</td>\n      <td>0</td>\n      <td>Not in universe</td>\n      <td>2</td>\n      <td>52</td>\n      <td>94</td>\n      <td>- 50000.</td>\n    </tr>\n    <tr>\n      <th>2</th>\n      <td>18</td>\n      <td>Not in universe</td>\n      <td>0</td>\n      <td>0</td>\n      <td>10th grade</td>\n      <td>0</td>\n      <td>High school</td>\n      <td>Never married</td>\n      <td>Not in universe or children</td>\n      <td>Not in universe</td>\n      <td>...</td>\n      <td>Vietnam</td>\n      <td>Vietnam</td>\n      <td>Vietnam</td>\n      <td>Foreign born- Not a citizen of U S</td>\n      <td>0</td>\n      <td>Not in universe</td>\n      <td>2</td>\n      <td>0</td>\n      <td>95</td>\n      <td>- 50000.</td>\n    </tr>\n    <tr>\n      <th>3</th>\n      <td>9</td>\n      <td>Not in universe</td>\n      <td>0</td>\n      <td>0</td>\n      <td>Children</td>\n      <td>0</td>\n      <td>Not in universe</td>\n      <td>Never married</td>\n      <td>Not in universe or children</td>\n      <td>Not in universe</td>\n      <td>...</td>\n      <td>United-States</td>\n      <td>United-States</td>\n      <td>United-States</td>\n      <td>Native- Born in the United States</td>\n      <td>0</td>\n      <td>Not in universe</td>\n      <td>0</td>\n      <td>0</td>\n      <td>94</td>\n      <td>- 50000.</td>\n    </tr>\n    <tr>\n      <th>4</th>\n      <td>10</td>\n      <td>Not in universe</td>\n      <td>0</td>\n      <td>0</td>\n      <td>Children</td>\n      <td>0</td>\n      <td>Not in universe</td>\n      <td>Never married</td>\n      <td>Not in universe or children</td>\n      <td>Not in universe</td>\n      <td>...</td>\n      <td>United-States</td>\n      <td>United-States</td>\n      <td>United-States</td>\n      <td>Native- Born in the United States</td>\n      <td>0</td>\n      <td>Not in universe</td>\n      <td>0</td>\n      <td>0</td>\n      <td>94</td>\n      <td>- 50000.</td>\n    </tr>\n  </tbody>\n</table>\n<p>5 rows × 42 columns</p>\n</div>"
     },
     "execution_count": 3,
     "metadata": {},
     "output_type": "execute_result"
    }
   ],
   "source": [
    "eda.df.head()"
   ],
   "metadata": {
    "collapsed": false,
    "pycharm": {
     "name": "#%%\n"
    }
   }
  },
  {
   "cell_type": "code",
   "execution_count": 3,
   "outputs": [],
   "source": [],
   "metadata": {
    "collapsed": false,
    "pycharm": {
     "name": "#%%\n"
    }
   }
  }
 ],
 "metadata": {
  "kernelspec": {
   "display_name": "Python 3",
   "language": "python",
   "name": "python3"
  },
  "language_info": {
   "codemirror_mode": {
    "name": "ipython",
    "version": 2
   },
   "file_extension": ".py",
   "mimetype": "text/x-python",
   "name": "python",
   "nbconvert_exporter": "python",
   "pygments_lexer": "ipython2",
   "version": "2.7.6"
  }
 },
 "nbformat": 4,
 "nbformat_minor": 0
}