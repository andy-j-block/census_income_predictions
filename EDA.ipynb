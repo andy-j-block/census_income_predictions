{
 "cells": [
  {
   "cell_type": "code",
   "execution_count": 8,
   "metadata": {
    "collapsed": true
   },
   "outputs": [],
   "source": [
    "import pandas as pd\n",
    "\n",
    "class EDA:\n",
    "\n",
    "    def __init__(self, data_loc: str):\n",
    "        self.df = pd.read_csv(data_loc, header=None)"
   ]
  },
  {
   "cell_type": "code",
   "execution_count": 9,
   "outputs": [],
   "source": [
    "eda = EDA('census_income_learn.csv')"
   ],
   "metadata": {
    "collapsed": false,
    "pycharm": {
     "name": "#%%\n"
    }
   }
  },
  {
   "cell_type": "code",
   "execution_count": 10,
   "outputs": [
    {
     "data": {
      "text/plain": "   0                                1   2   3                            4   \\\n0  73                  Not in universe   0   0         High school graduate   \n1  58   Self-employed-not incorporated   4  34   Some college but no degree   \n2  18                  Not in universe   0   0                   10th grade   \n3   9                  Not in universe   0   0                     Children   \n4  10                  Not in universe   0   0                     Children   \n\n   5                 6               7                             8   \\\n0   0   Not in universe         Widowed   Not in universe or children   \n1   0   Not in universe        Divorced                  Construction   \n2   0       High school   Never married   Not in universe or children   \n3   0   Not in universe   Never married   Not in universe or children   \n4   0   Not in universe   Never married   Not in universe or children   \n\n                                     9   ...              32              33  \\\n0                       Not in universe  ...   United-States   United-States   \n1   Precision production craft & repair  ...   United-States   United-States   \n2                       Not in universe  ...         Vietnam         Vietnam   \n3                       Not in universe  ...   United-States   United-States   \n4                       Not in universe  ...   United-States   United-States   \n\n               34                                    35 36                37  \\\n0   United-States     Native- Born in the United States  0   Not in universe   \n1   United-States     Native- Born in the United States  0   Not in universe   \n2         Vietnam   Foreign born- Not a citizen of U S   0   Not in universe   \n3   United-States     Native- Born in the United States  0   Not in universe   \n4   United-States     Native- Born in the United States  0   Not in universe   \n\n   38  39  40         41  \n0   2   0  95   - 50000.  \n1   2  52  94   - 50000.  \n2   2   0  95   - 50000.  \n3   0   0  94   - 50000.  \n4   0   0  94   - 50000.  \n\n[5 rows x 42 columns]",
      "text/html": "<div>\n<style scoped>\n    .dataframe tbody tr th:only-of-type {\n        vertical-align: middle;\n    }\n\n    .dataframe tbody tr th {\n        vertical-align: top;\n    }\n\n    .dataframe thead th {\n        text-align: right;\n    }\n</style>\n<table border=\"1\" class=\"dataframe\">\n  <thead>\n    <tr style=\"text-align: right;\">\n      <th></th>\n      <th>0</th>\n      <th>1</th>\n      <th>2</th>\n      <th>3</th>\n      <th>4</th>\n      <th>5</th>\n      <th>6</th>\n      <th>7</th>\n      <th>8</th>\n      <th>9</th>\n      <th>...</th>\n      <th>32</th>\n      <th>33</th>\n      <th>34</th>\n      <th>35</th>\n      <th>36</th>\n      <th>37</th>\n      <th>38</th>\n      <th>39</th>\n      <th>40</th>\n      <th>41</th>\n    </tr>\n  </thead>\n  <tbody>\n    <tr>\n      <th>0</th>\n      <td>73</td>\n      <td>Not in universe</td>\n      <td>0</td>\n      <td>0</td>\n      <td>High school graduate</td>\n      <td>0</td>\n      <td>Not in universe</td>\n      <td>Widowed</td>\n      <td>Not in universe or children</td>\n      <td>Not in universe</td>\n      <td>...</td>\n      <td>United-States</td>\n      <td>United-States</td>\n      <td>United-States</td>\n      <td>Native- Born in the United States</td>\n      <td>0</td>\n      <td>Not in universe</td>\n      <td>2</td>\n      <td>0</td>\n      <td>95</td>\n      <td>- 50000.</td>\n    </tr>\n    <tr>\n      <th>1</th>\n      <td>58</td>\n      <td>Self-employed-not incorporated</td>\n      <td>4</td>\n      <td>34</td>\n      <td>Some college but no degree</td>\n      <td>0</td>\n      <td>Not in universe</td>\n      <td>Divorced</td>\n      <td>Construction</td>\n      <td>Precision production craft &amp; repair</td>\n      <td>...</td>\n      <td>United-States</td>\n      <td>United-States</td>\n      <td>United-States</td>\n      <td>Native- Born in the United States</td>\n      <td>0</td>\n      <td>Not in universe</td>\n      <td>2</td>\n      <td>52</td>\n      <td>94</td>\n      <td>- 50000.</td>\n    </tr>\n    <tr>\n      <th>2</th>\n      <td>18</td>\n      <td>Not in universe</td>\n      <td>0</td>\n      <td>0</td>\n      <td>10th grade</td>\n      <td>0</td>\n      <td>High school</td>\n      <td>Never married</td>\n      <td>Not in universe or children</td>\n      <td>Not in universe</td>\n      <td>...</td>\n      <td>Vietnam</td>\n      <td>Vietnam</td>\n      <td>Vietnam</td>\n      <td>Foreign born- Not a citizen of U S</td>\n      <td>0</td>\n      <td>Not in universe</td>\n      <td>2</td>\n      <td>0</td>\n      <td>95</td>\n      <td>- 50000.</td>\n    </tr>\n    <tr>\n      <th>3</th>\n      <td>9</td>\n      <td>Not in universe</td>\n      <td>0</td>\n      <td>0</td>\n      <td>Children</td>\n      <td>0</td>\n      <td>Not in universe</td>\n      <td>Never married</td>\n      <td>Not in universe or children</td>\n      <td>Not in universe</td>\n      <td>...</td>\n      <td>United-States</td>\n      <td>United-States</td>\n      <td>United-States</td>\n      <td>Native- Born in the United States</td>\n      <td>0</td>\n      <td>Not in universe</td>\n      <td>0</td>\n      <td>0</td>\n      <td>94</td>\n      <td>- 50000.</td>\n    </tr>\n    <tr>\n      <th>4</th>\n      <td>10</td>\n      <td>Not in universe</td>\n      <td>0</td>\n      <td>0</td>\n      <td>Children</td>\n      <td>0</td>\n      <td>Not in universe</td>\n      <td>Never married</td>\n      <td>Not in universe or children</td>\n      <td>Not in universe</td>\n      <td>...</td>\n      <td>United-States</td>\n      <td>United-States</td>\n      <td>United-States</td>\n      <td>Native- Born in the United States</td>\n      <td>0</td>\n      <td>Not in universe</td>\n      <td>0</td>\n      <td>0</td>\n      <td>94</td>\n      <td>- 50000.</td>\n    </tr>\n  </tbody>\n</table>\n<p>5 rows × 42 columns</p>\n</div>"
     },
     "execution_count": 10,
     "metadata": {},
     "output_type": "execute_result"
    }
   ],
   "source": [
    "eda.df.head()"
   ],
   "metadata": {
    "collapsed": false,
    "pycharm": {
     "name": "#%%\n"
    }
   }
  },
  {
   "cell_type": "code",
   "execution_count": null,
   "outputs": [],
   "source": [],
   "metadata": {
    "collapsed": false,
    "pycharm": {
     "name": "#%%\n"
    }
   }
  }
 ],
 "metadata": {
  "kernelspec": {
   "display_name": "Python 3",
   "language": "python",
   "name": "python3"
  },
  "language_info": {
   "codemirror_mode": {
    "name": "ipython",
    "version": 2
   },
   "file_extension": ".py",
   "mimetype": "text/x-python",
   "name": "python",
   "nbconvert_exporter": "python",
   "pygments_lexer": "ipython2",
   "version": "2.7.6"
  }
 },
 "nbformat": 4,
 "nbformat_minor": 0
}