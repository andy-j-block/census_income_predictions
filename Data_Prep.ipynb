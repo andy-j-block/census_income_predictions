{
 "cells": [
  {
   "cell_type": "code",
   "execution_count": 48,
   "metadata": {
    "collapsed": true
   },
   "outputs": [],
   "source": [
    "import os\n",
    "import pandas as pd\n",
    "import pickle\n",
    "from typing import List, Union\n",
    "from sklearn.preprocessing import StandardScaler, LabelEncoder\n",
    "from category_encoders.target_encoder import TargetEncoder\n",
    "from category_encoders.one_hot import OneHotEncoder\n",
    "import warnings\n",
    "warnings.filterwarnings(\"ignore\")\n",
    "\n",
    "class DataPrep:\n",
    "\n",
    "    df: pd.DataFrame\n",
    "    metadata: str\n",
    "    col_names: List[str]\n",
    "    cols_to_scale: List[str] = ['age', 'wage per hour', 'dividends from stocks', 'weeks worked in year', 'capital_change']\n",
    "    cols_to_encode: List[str] = ['class of worker', 'detailed industry recode', 'detailed occupation recode', 'education', 'enroll in edu inst last wk', 'marital stat', 'major industry code', 'major occupation code', 'race', 'hispanic origin', 'sex', 'member of a labor union', 'reason for unemployment', 'full or part time employment stat', 'tax filer stat', 'region of previous residence', 'state of previous residence', 'detailed household and family stat', 'detailed household summary in household', 'migration code-change in msa', 'migration code-change in reg', 'migration code-move within reg', 'live in this house 1 year ago', 'migration prev res in sunbelt', 'num persons worked for employer', 'family members under 18', 'country of birth father', 'country of birth mother', 'country of birth self', 'citizenship', 'own business or self employed', \"fill inc questionnaire for veteran's admin\", 'veterans benefits', 'year']\n",
    "\n",
    "    def __init__(self, data_path: str):\n",
    "        self.data_path = data_path\n",
    "        self.inhale_metadata()\n",
    "\n",
    "    def create_dataframe(self, print_=False):\n",
    "        self.df = pd.read_csv(self.data_path, header=None)\n",
    "        if print_:\n",
    "            print(self.df.head(3))\n",
    "\n",
    "    def inhale_metadata(self):\n",
    "        with open('./census_data/census_income_metadata.txt', 'r') as f:\n",
    "            self.metadata = f.read()\n",
    "\n",
    "    def get_col_names(self, print_=False):\n",
    "        self.col_names = [attr.split(':')[0] for attr in self.metadata.split('- 50000, 50000+.')[1].strip().split('\\n')]\n",
    "        self.col_names.remove('| instance weight'), self.col_names.append('target')\n",
    "        if print_:\n",
    "            print(self.col_names)\n",
    "\n",
    "    def set_col_names(self, print_=False):\n",
    "        self.df.columns = self.col_names\n",
    "        if print_:\n",
    "            print(self.df.head())\n",
    "\n",
    "    def feature_engineering(self):\n",
    "        \"\"\"metadata indicated this feature should be dropped\"\"\"\n",
    "        self.df.drop('instance weight', axis=1, inplace=True)\n",
    "\n",
    "        \"\"\"a single individual can't have both a capital gain AND a capital loss so condense those\"\"\"\n",
    "        self.df['capital_change'] = self.df['capital gains'] - self.df['capital losses']\n",
    "        self.df.drop(['capital gains', 'capital losses'], axis=1, inplace=True)\n",
    "\n",
    "        \"\"\"replace the target feature string values with integers\"\"\"\n",
    "        self.df['target'].replace({' - 50000.': -1, ' 50000+.': 1}, inplace=True)\n",
    "        \n",
    "    def numerical_scaling(self):\n",
    "        data_to_scale = self.df[self.cols_to_scale]\n",
    "        scaler = StandardScaler()\n",
    "        data_to_scale = scaler.fit_transform(self.df[self.cols_to_scale])\n",
    "        self.df[self.cols_to_scale] = data_to_scale\n",
    "\n",
    "    def categorical_encoding(self, scheme: str = 'target'):\n",
    "        if scheme == 'label':\n",
    "            encoder = LabelEncoder()\n",
    "            label_encoded = pd.DataFrame(columns=self.cols_to_encode)\n",
    "            for col in self.cols_to_encode:\n",
    "                label_encoded[col] = encoder.fit_transform(self.df[col])\n",
    "            self.df[self.cols_to_encode] = label_encoded\n",
    "\n",
    "        elif scheme == 'target':\n",
    "            encoder = TargetEncoder(cols=self.cols_to_encode)\n",
    "            encoder.fit(X=self.df[self.cols_to_encode], y=self.df['target'])\n",
    "            self.df[self.cols_to_encode] = encoder.transform(self.df[self.cols_to_encode])\n",
    "\n",
    "        else:\n",
    "            print('Scheme input incorrect. Please input either \"label\" or \"target\"')\n",
    "    \n",
    "    def get_val_counts(self, cols: List[str]=None, top_n: int = 8):\n",
    "        if cols is None: cols = self.df.columns\n",
    "        for col in cols:\n",
    "                print(f'{col}: \\n{self.df[col].value_counts().iloc[:top_n]}\\n')\n",
    "\n",
    "    def examine_cardinality(self, cols: List[str]=None):\n",
    "        if cols is None: cols = [col for col in self.df.columns if self.df[col].dtypes!='int64']\n",
    "        cardinality_series = pd.Series(index=cols)\n",
    "        for col in cols:\n",
    "            cardinality_series.loc[col] = self.df[col].nunique()\n",
    "        print(cardinality_series.sort_values(ascending=False))\n",
    "\n",
    "    def split_X_y(self, phase: str):\n",
    "        setattr(self, f'y_{phase}', self.df['target'])\n",
    "        setattr(self, f'X_{phase}', self.df.drop('target', axis=1))\n",
    "\n",
    "    def apply_all(self, phase: str, encoding_scheme: str = 'target'):  #####TODO: add all methods to this method\n",
    "        self.create_dataframe()\n",
    "        if self.metadata is None: self.inhale_metadata()\n",
    "        self.get_col_names()\n",
    "        self.set_col_names()\n",
    "        self.feature_engineering()\n",
    "        self.numerical_scaling()\n",
    "        self.categorical_encoding(encoding_scheme)\n",
    "        self.split_X_y(phase)\n",
    "        self.pickle_data(phase)\n",
    "\n",
    "    def pickle_data(self, phase: str):\n",
    "        if 'pickles' not in os.listdir(os.getcwd()):\n",
    "            os.mkdir('./pickles')\n",
    "\n",
    "        for df in ['X', 'y']:\n",
    "            with open(f'./pickles/{df}_{phase}.obj', 'wb') as f:\n",
    "                pickle.dump(getattr(self, f'{df}_{phase}'), f)"
   ]
  },
  {
   "cell_type": "code",
   "execution_count": 49,
   "metadata": {
    "collapsed": false,
    "pycharm": {
     "name": "#%%\n"
    }
   },
   "outputs": [],
   "source": [
    "train_data = DataPrep('./census_data/census_income_learn.csv')"
   ]
  },
  {
   "cell_type": "code",
   "execution_count": 50,
   "metadata": {
    "collapsed": false,
    "pycharm": {
     "name": "#%%\n"
    }
   },
   "outputs": [
    {
     "name": "stdout",
     "output_type": "stream",
     "text": [
      "   0                                1   2   3                            4   \\\n",
      "0  73                  Not in universe   0   0         High school graduate   \n",
      "1  58   Self-employed-not incorporated   4  34   Some college but no degree   \n",
      "2  18                  Not in universe   0   0                   10th grade   \n",
      "\n",
      "   5                 6               7                             8   \\\n",
      "0   0   Not in universe         Widowed   Not in universe or children   \n",
      "1   0   Not in universe        Divorced                  Construction   \n",
      "2   0       High school   Never married   Not in universe or children   \n",
      "\n",
      "                                     9   ...              32              33  \\\n",
      "0                       Not in universe  ...   United-States   United-States   \n",
      "1   Precision production craft & repair  ...   United-States   United-States   \n",
      "2                       Not in universe  ...         Vietnam         Vietnam   \n",
      "\n",
      "               34                                    35 36                37  \\\n",
      "0   United-States     Native- Born in the United States  0   Not in universe   \n",
      "1   United-States     Native- Born in the United States  0   Not in universe   \n",
      "2         Vietnam   Foreign born- Not a citizen of U S   0   Not in universe   \n",
      "\n",
      "   38  39  40         41  \n",
      "0   2   0  95   - 50000.  \n",
      "1   2  52  94   - 50000.  \n",
      "2   2   0  95   - 50000.  \n",
      "\n",
      "[3 rows x 42 columns]\n"
     ]
    }
   ],
   "source": [
    "train_data.create_dataframe(print_=True)"
   ]
  },
  {
   "cell_type": "code",
   "execution_count": 51,
   "metadata": {
    "collapsed": false,
    "pycharm": {
     "name": "#%%\n"
    }
   },
   "outputs": [
    {
     "name": "stdout",
     "output_type": "stream",
     "text": [
      "['age', 'class of worker', 'detailed industry recode', 'detailed occupation recode', 'education', 'wage per hour', 'enroll in edu inst last wk', 'marital stat', 'major industry code', 'major occupation code', 'race', 'hispanic origin', 'sex', 'member of a labor union', 'reason for unemployment', 'full or part time employment stat', 'capital gains', 'capital losses', 'dividends from stocks', 'tax filer stat', 'region of previous residence', 'state of previous residence', 'detailed household and family stat', 'detailed household summary in household', 'instance weight', 'migration code-change in msa', 'migration code-change in reg', 'migration code-move within reg', 'live in this house 1 year ago', 'migration prev res in sunbelt', 'num persons worked for employer', 'family members under 18', 'country of birth father', 'country of birth mother', 'country of birth self', 'citizenship', 'own business or self employed', \"fill inc questionnaire for veteran's admin\", 'veterans benefits', 'weeks worked in year', 'year', 'target']\n"
     ]
    }
   ],
   "source": [
    "train_data.inhale_metadata()\n",
    "train_data.get_col_names(print_=True)"
   ]
  },
  {
   "cell_type": "code",
   "execution_count": 52,
   "metadata": {
    "collapsed": false,
    "pycharm": {
     "name": "#%%\n"
    }
   },
   "outputs": [
    {
     "name": "stdout",
     "output_type": "stream",
     "text": [
      "   age                  class of worker  detailed industry recode  \\\n",
      "0   73                  Not in universe                         0   \n",
      "1   58   Self-employed-not incorporated                         4   \n",
      "2   18                  Not in universe                         0   \n",
      "3    9                  Not in universe                         0   \n",
      "4   10                  Not in universe                         0   \n",
      "\n",
      "   detailed occupation recode                    education  wage per hour  \\\n",
      "0                           0         High school graduate              0   \n",
      "1                          34   Some college but no degree              0   \n",
      "2                           0                   10th grade              0   \n",
      "3                           0                     Children              0   \n",
      "4                           0                     Children              0   \n",
      "\n",
      "  enroll in edu inst last wk    marital stat           major industry code  \\\n",
      "0            Not in universe         Widowed   Not in universe or children   \n",
      "1            Not in universe        Divorced                  Construction   \n",
      "2                High school   Never married   Not in universe or children   \n",
      "3            Not in universe   Never married   Not in universe or children   \n",
      "4            Not in universe   Never married   Not in universe or children   \n",
      "\n",
      "                  major occupation code  ... country of birth father  \\\n",
      "0                       Not in universe  ...           United-States   \n",
      "1   Precision production craft & repair  ...           United-States   \n",
      "2                       Not in universe  ...                 Vietnam   \n",
      "3                       Not in universe  ...           United-States   \n",
      "4                       Not in universe  ...           United-States   \n",
      "\n",
      "  country of birth mother country of birth self  \\\n",
      "0           United-States         United-States   \n",
      "1           United-States         United-States   \n",
      "2                 Vietnam               Vietnam   \n",
      "3           United-States         United-States   \n",
      "4           United-States         United-States   \n",
      "\n",
      "                            citizenship own business or self employed  \\\n",
      "0     Native- Born in the United States                             0   \n",
      "1     Native- Born in the United States                             0   \n",
      "2   Foreign born- Not a citizen of U S                              0   \n",
      "3     Native- Born in the United States                             0   \n",
      "4     Native- Born in the United States                             0   \n",
      "\n",
      "  fill inc questionnaire for veteran's admin  veterans benefits  \\\n",
      "0                            Not in universe                  2   \n",
      "1                            Not in universe                  2   \n",
      "2                            Not in universe                  2   \n",
      "3                            Not in universe                  0   \n",
      "4                            Not in universe                  0   \n",
      "\n",
      "   weeks worked in year  year     target  \n",
      "0                     0    95   - 50000.  \n",
      "1                    52    94   - 50000.  \n",
      "2                     0    95   - 50000.  \n",
      "3                     0    94   - 50000.  \n",
      "4                     0    94   - 50000.  \n",
      "\n",
      "[5 rows x 42 columns]\n"
     ]
    }
   ],
   "source": [
    "train_data.set_col_names(print_=True)"
   ]
  },
  {
   "cell_type": "code",
   "execution_count": 53,
   "outputs": [],
   "source": [
    "train_data.feature_engineering()"
   ],
   "metadata": {
    "collapsed": false,
    "pycharm": {
     "name": "#%%\n"
    }
   }
  },
  {
   "cell_type": "code",
   "execution_count": 54,
   "outputs": [
    {
     "name": "stdout",
     "output_type": "stream",
     "text": [
      "age: \n",
      "34    3489\n",
      "35    3450\n",
      "36    3353\n",
      "31    3351\n",
      "33    3340\n",
      "5     3332\n",
      "4     3318\n",
      "3     3279\n",
      "Name: age, dtype: int64\n",
      "\n",
      "class of worker: \n",
      " Not in universe                   100245\n",
      " Private                            72028\n",
      " Self-employed-not incorporated      8445\n",
      " Local government                    7784\n",
      " State government                    4227\n",
      " Self-employed-incorporated          3265\n",
      " Federal government                  2925\n",
      " Never worked                         439\n",
      "Name: class of worker, dtype: int64\n",
      "\n",
      "detailed industry recode: \n",
      "0     100684\n",
      "33     17070\n",
      "43      8283\n",
      "4       5984\n",
      "42      4683\n",
      "45      4482\n",
      "29      4209\n",
      "37      4022\n",
      "Name: detailed industry recode, dtype: int64\n",
      "\n",
      "detailed occupation recode: \n",
      "0     100684\n",
      "2       8756\n",
      "26      7887\n",
      "19      5413\n",
      "29      5105\n",
      "36      4145\n",
      "34      4025\n",
      "10      3683\n",
      "Name: detailed occupation recode, dtype: int64\n",
      "\n",
      "education: \n",
      " High school graduate                      48407\n",
      " Children                                  47422\n",
      " Some college but no degree                27820\n",
      " Bachelors degree(BA AB BS)                19865\n",
      " 7th and 8th grade                          8007\n",
      " 10th grade                                 7557\n",
      " 11th grade                                 6876\n",
      " Masters degree(MA MS MEng MEd MSW MBA)     6541\n",
      "Name: education, dtype: int64\n",
      "\n",
      "wage per hour: \n",
      "0       188219\n",
      "500        734\n",
      "600        546\n",
      "700        534\n",
      "800        507\n",
      "1000       386\n",
      "425        376\n",
      "900        336\n",
      "Name: wage per hour, dtype: int64\n",
      "\n",
      "enroll in edu inst last wk: \n",
      " Not in universe          186943\n",
      " High school                6892\n",
      " College or university      5688\n",
      "Name: enroll in edu inst last wk, dtype: int64\n",
      "\n",
      "marital stat: \n",
      " Never married                      86485\n",
      " Married-civilian spouse present    84222\n",
      " Divorced                           12710\n",
      " Widowed                            10463\n",
      " Separated                           3460\n",
      " Married-spouse absent               1518\n",
      " Married-A F spouse present           665\n",
      "Name: marital stat, dtype: int64\n",
      "\n",
      "major industry code: \n",
      " Not in universe or children          100684\n",
      " Retail trade                          17070\n",
      " Manufacturing-durable goods            9015\n",
      " Education                              8283\n",
      " Manufacturing-nondurable goods         6897\n",
      " Finance insurance and real estate      6145\n",
      " Construction                           5984\n",
      " Business and repair services           5651\n",
      "Name: major industry code, dtype: int64\n",
      "\n",
      "major occupation code: \n",
      " Not in universe                          100684\n",
      " Adm support including clerical            14837\n",
      " Professional specialty                    13940\n",
      " Executive admin and managerial            12495\n",
      " Other service                             12099\n",
      " Sales                                     11783\n",
      " Precision production craft & repair       10518\n",
      " Machine operators assmblrs & inspctrs      6379\n",
      "Name: major occupation code, dtype: int64\n",
      "\n",
      "race: \n",
      " White                          167365\n",
      " Black                           20415\n",
      " Asian or Pacific Islander        5835\n",
      " Other                            3657\n",
      " Amer Indian Aleut or Eskimo      2251\n",
      "Name: race, dtype: int64\n",
      "\n",
      "hispanic origin: \n",
      " All other                    171907\n",
      " Mexican-American               8079\n",
      " Mexican (Mexicano)             7234\n",
      " Central or South American      3895\n",
      " Puerto Rican                   3313\n",
      " Other Spanish                  2485\n",
      " Cuban                          1126\n",
      " NA                              874\n",
      "Name: hispanic origin, dtype: int64\n",
      "\n",
      "sex: \n",
      " Female    103984\n",
      " Male       95539\n",
      "Name: sex, dtype: int64\n",
      "\n",
      "member of a labor union: \n",
      " Not in universe    180459\n",
      " No                  16034\n",
      " Yes                  3030\n",
      "Name: member of a labor union, dtype: int64\n",
      "\n",
      "reason for unemployment: \n",
      " Not in universe          193453\n",
      " Other job loser            2038\n",
      " Re-entrant                 2019\n",
      " Job loser - on layoff       976\n",
      " Job leaver                  598\n",
      " New entrant                 439\n",
      "Name: reason for unemployment, dtype: int64\n",
      "\n",
      "full or part time employment stat: \n",
      " Children or Armed Forces              123769\n",
      " Full-time schedules                    40736\n",
      " Not in labor force                     26808\n",
      " PT for non-econ reasons usually FT      3322\n",
      " Unemployed full-time                    2311\n",
      " PT for econ reasons usually PT          1209\n",
      " Unemployed part- time                    843\n",
      " PT for econ reasons usually FT           525\n",
      "Name: full or part time employment stat, dtype: int64\n",
      "\n",
      "dividends from stocks: \n",
      "0       178382\n",
      "100       1148\n",
      "500       1030\n",
      "1000       894\n",
      "200        866\n",
      "50         832\n",
      "2000       574\n",
      "250        555\n",
      "Name: dividends from stocks, dtype: int64\n",
      "\n",
      "tax filer stat: \n",
      " Nonfiler                        75094\n",
      " Joint both under 65             67383\n",
      " Single                          37421\n",
      " Joint both 65+                   8332\n",
      " Head of household                7426\n",
      " Joint one under 65 & one 65+     3867\n",
      "Name: tax filer stat, dtype: int64\n",
      "\n",
      "region of previous residence: \n",
      " Not in universe    183750\n",
      " South                4889\n",
      " West                 4074\n",
      " Midwest              3575\n",
      " Northeast            2705\n",
      " Abroad                530\n",
      "Name: region of previous residence, dtype: int64\n",
      "\n",
      "state of previous residence: \n",
      " Not in universe    183750\n",
      " California           1714\n",
      " Utah                 1063\n",
      " Florida               849\n",
      " North Carolina        812\n",
      " ?                     708\n",
      " Abroad                671\n",
      " Oklahoma              626\n",
      "Name: state of previous residence, dtype: int64\n",
      "\n",
      "detailed household and family stat: \n",
      " Householder                                        53248\n",
      " Child <18 never marr not in subfamily              50326\n",
      " Spouse of householder                              41695\n",
      " Nonfamily householder                              22213\n",
      " Child 18+ never marr Not in a subfamily            12030\n",
      " Secondary individual                                6122\n",
      " Other Rel 18+ ever marr not in subfamily            1956\n",
      " Grandchild <18 never marr child of subfamily RP     1868\n",
      "Name: detailed household and family stat, dtype: int64\n",
      "\n",
      "detailed household summary in household: \n",
      " Householder                             75475\n",
      " Child under 18 never married            50426\n",
      " Spouse of householder                   41709\n",
      " Child 18 or older                       14430\n",
      " Other relative of householder            9703\n",
      " Nonrelative of householder               7601\n",
      " Group Quarters- Secondary individual      132\n",
      " Child under 18 ever married                47\n",
      "Name: detailed household summary in household, dtype: int64\n",
      "\n",
      "migration code-change in msa: \n",
      " ?                   99696\n",
      " Nonmover            82538\n",
      " MSA to MSA          10601\n",
      " NonMSA to nonMSA     2811\n",
      " Not in universe      1516\n",
      " MSA to nonMSA         790\n",
      " NonMSA to MSA         615\n",
      " Abroad to MSA         453\n",
      "Name: migration code-change in msa, dtype: int64\n",
      "\n",
      "migration code-change in reg: \n",
      " ?                                99696\n",
      " Nonmover                         82538\n",
      " Same county                       9812\n",
      " Different county same state       2797\n",
      " Not in universe                   1516\n",
      " Different region                  1178\n",
      " Different state same division      991\n",
      " Abroad                             530\n",
      "Name: migration code-change in reg, dtype: int64\n",
      "\n",
      "migration code-move within reg: \n",
      " ?                              99696\n",
      " Nonmover                       82538\n",
      " Same county                     9812\n",
      " Different county same state     2797\n",
      " Not in universe                 1516\n",
      " Different state in South         973\n",
      " Different state in West          679\n",
      " Different state in Midwest       551\n",
      "Name: migration code-move within reg, dtype: int64\n",
      "\n",
      "live in this house 1 year ago: \n",
      " Not in universe under 1 year old    101212\n",
      " Yes                                  82538\n",
      " No                                   15773\n",
      "Name: live in this house 1 year ago, dtype: int64\n",
      "\n",
      "migration prev res in sunbelt: \n",
      " ?                  99696\n",
      " Not in universe    84054\n",
      " No                  9987\n",
      " Yes                 5786\n",
      "Name: migration prev res in sunbelt, dtype: int64\n",
      "\n",
      "num persons worked for employer: \n",
      "0    95983\n",
      "6    36511\n",
      "1    23109\n",
      "4    14379\n",
      "3    13425\n",
      "2    10081\n",
      "5     6035\n",
      "Name: num persons worked for employer, dtype: int64\n",
      "\n",
      "family members under 18: \n",
      " Not in universe           144232\n",
      " Both parents present       38983\n",
      " Mother only present        12772\n",
      " Father only present         1883\n",
      " Neither parent present      1653\n",
      "Name: family members under 18, dtype: int64\n",
      "\n",
      "country of birth father: \n",
      " United-States         159163\n",
      " Mexico                 10008\n",
      " ?                       6713\n",
      " Puerto-Rico             2680\n",
      " Italy                   2212\n",
      " Canada                  1380\n",
      " Germany                 1356\n",
      " Dominican-Republic      1290\n",
      "Name: country of birth father, dtype: int64\n",
      "\n",
      "country of birth mother: \n",
      " United-States    160479\n",
      " Mexico             9781\n",
      " ?                  6119\n",
      " Puerto-Rico        2473\n",
      " Italy              1844\n",
      " Canada             1451\n",
      " Germany            1382\n",
      " Philippines        1231\n",
      "Name: country of birth mother, dtype: int64\n",
      "\n",
      "country of birth self: \n",
      " United-States    176989\n",
      " Mexico             5767\n",
      " ?                  3393\n",
      " Puerto-Rico        1400\n",
      " Germany             851\n",
      " Philippines         845\n",
      " Cuba                837\n",
      " Canada              700\n",
      "Name: country of birth self, dtype: int64\n",
      "\n",
      "citizenship: \n",
      " Native- Born in the United States              176992\n",
      " Foreign born- Not a citizen of U S              13401\n",
      " Foreign born- U S citizen by naturalization      5855\n",
      " Native- Born abroad of American Parent(s)        1756\n",
      " Native- Born in Puerto Rico or U S Outlying      1519\n",
      "Name: citizenship, dtype: int64\n",
      "\n",
      "own business or self employed: \n",
      "0    180672\n",
      "2     16153\n",
      "1      2698\n",
      "Name: own business or self employed, dtype: int64\n",
      "\n",
      "fill inc questionnaire for veteran's admin: \n",
      " Not in universe    197539\n",
      " No                   1593\n",
      " Yes                   391\n",
      "Name: fill inc questionnaire for veteran's admin, dtype: int64\n",
      "\n",
      "veterans benefits: \n",
      "2    150130\n",
      "0     47409\n",
      "1      1984\n",
      "Name: veterans benefits, dtype: int64\n",
      "\n",
      "weeks worked in year: \n",
      "0     95983\n",
      "52    70314\n",
      "40     2790\n",
      "50     2304\n",
      "26     2268\n",
      "48     1806\n",
      "12     1780\n",
      "30     1378\n",
      "Name: weeks worked in year, dtype: int64\n",
      "\n",
      "year: \n",
      "94    99827\n",
      "95    99696\n",
      "Name: year, dtype: int64\n",
      "\n",
      "target: \n",
      "-1    187141\n",
      " 1     12382\n",
      "Name: target, dtype: int64\n",
      "\n",
      "capital_change: \n",
      " 0        188238\n",
      " 15024       788\n",
      " 7688        609\n",
      " 7298        582\n",
      "-1902        407\n",
      " 99999       390\n",
      "-1977        381\n",
      "-1887        364\n",
      "Name: capital_change, dtype: int64\n",
      "\n"
     ]
    }
   ],
   "source": [
    "train_data.get_val_counts()"
   ],
   "metadata": {
    "collapsed": false,
    "pycharm": {
     "name": "#%%\n"
    }
   }
  },
  {
   "cell_type": "code",
   "execution_count": 55,
   "outputs": [
    {
     "name": "stdout",
     "output_type": "stream",
     "text": [
      "state of previous residence                   51.0\n",
      "country of birth self                         43.0\n",
      "country of birth mother                       43.0\n",
      "country of birth father                       43.0\n",
      "detailed household and family stat            38.0\n",
      "major industry code                           24.0\n",
      "education                                     17.0\n",
      "major occupation code                         15.0\n",
      "migration code-move within reg                10.0\n",
      "hispanic origin                               10.0\n",
      "migration code-change in msa                  10.0\n",
      "class of worker                                9.0\n",
      "migration code-change in reg                   9.0\n",
      "detailed household summary in household        8.0\n",
      "full or part time employment stat              8.0\n",
      "marital stat                                   7.0\n",
      "reason for unemployment                        6.0\n",
      "region of previous residence                   6.0\n",
      "tax filer stat                                 6.0\n",
      "race                                           5.0\n",
      "citizenship                                    5.0\n",
      "family members under 18                        5.0\n",
      "migration prev res in sunbelt                  4.0\n",
      "member of a labor union                        3.0\n",
      "live in this house 1 year ago                  3.0\n",
      "enroll in edu inst last wk                     3.0\n",
      "fill inc questionnaire for veteran's admin     3.0\n",
      "sex                                            2.0\n",
      "dtype: float64\n"
     ]
    }
   ],
   "source": [
    "train_data.examine_cardinality()"
   ],
   "metadata": {
    "collapsed": false,
    "pycharm": {
     "name": "#%%\n"
    }
   }
  },
  {
   "cell_type": "code",
   "execution_count": 47,
   "outputs": [
    {
     "data": {
      "text/plain": "True"
     },
     "execution_count": 47,
     "metadata": {},
     "output_type": "execute_result"
    }
   ],
   "source": [
    "train_data.df['age'].dtypes == 'int64'"
   ],
   "metadata": {
    "collapsed": false,
    "pycharm": {
     "name": "#%%\n"
    }
   }
  },
  {
   "cell_type": "code",
   "execution_count": 36,
   "outputs": [
    {
     "name": "stdout",
     "output_type": "stream",
     "text": [
      "<class 'pandas.core.frame.DataFrame'>\n",
      "RangeIndex: 199523 entries, 0 to 199522\n",
      "Data columns (total 40 columns):\n",
      " #   Column                                      Non-Null Count   Dtype \n",
      "---  ------                                      --------------   ----- \n",
      " 0   age                                         199523 non-null  int64 \n",
      " 1   class of worker                             199523 non-null  object\n",
      " 2   detailed industry recode                    199523 non-null  int64 \n",
      " 3   detailed occupation recode                  199523 non-null  int64 \n",
      " 4   education                                   199523 non-null  object\n",
      " 5   wage per hour                               199523 non-null  int64 \n",
      " 6   enroll in edu inst last wk                  199523 non-null  object\n",
      " 7   marital stat                                199523 non-null  object\n",
      " 8   major industry code                         199523 non-null  object\n",
      " 9   major occupation code                       199523 non-null  object\n",
      " 10  race                                        199523 non-null  object\n",
      " 11  hispanic origin                             199523 non-null  object\n",
      " 12  sex                                         199523 non-null  object\n",
      " 13  member of a labor union                     199523 non-null  object\n",
      " 14  reason for unemployment                     199523 non-null  object\n",
      " 15  full or part time employment stat           199523 non-null  object\n",
      " 16  dividends from stocks                       199523 non-null  int64 \n",
      " 17  tax filer stat                              199523 non-null  object\n",
      " 18  region of previous residence                199523 non-null  object\n",
      " 19  state of previous residence                 199523 non-null  object\n",
      " 20  detailed household and family stat          199523 non-null  object\n",
      " 21  detailed household summary in household     199523 non-null  object\n",
      " 22  migration code-change in msa                199523 non-null  object\n",
      " 23  migration code-change in reg                199523 non-null  object\n",
      " 24  migration code-move within reg              199523 non-null  object\n",
      " 25  live in this house 1 year ago               199523 non-null  object\n",
      " 26  migration prev res in sunbelt               199523 non-null  object\n",
      " 27  num persons worked for employer             199523 non-null  int64 \n",
      " 28  family members under 18                     199523 non-null  object\n",
      " 29  country of birth father                     199523 non-null  object\n",
      " 30  country of birth mother                     199523 non-null  object\n",
      " 31  country of birth self                       199523 non-null  object\n",
      " 32  citizenship                                 199523 non-null  object\n",
      " 33  own business or self employed               199523 non-null  int64 \n",
      " 34  fill inc questionnaire for veteran's admin  199523 non-null  object\n",
      " 35  veterans benefits                           199523 non-null  int64 \n",
      " 36  weeks worked in year                        199523 non-null  int64 \n",
      " 37  year                                        199523 non-null  int64 \n",
      " 38  target                                      199523 non-null  int64 \n",
      " 39  capital_change                              199523 non-null  int64 \n",
      "dtypes: int64(12), object(28)\n",
      "memory usage: 60.9+ MB\n"
     ]
    }
   ],
   "source": [
    "train_data.df.info()"
   ],
   "metadata": {
    "collapsed": false,
    "pycharm": {
     "name": "#%%\n"
    }
   }
  },
  {
   "cell_type": "code",
   "execution_count": 9,
   "outputs": [
    {
     "data": {
      "text/plain": "        age                  class of worker  detailed industry recode  \\\n0  1.725879                  Not in universe                         0   \n1  1.053560   Self-employed-not incorporated                         4   \n2 -0.739291                  Not in universe                         0   \n\n   detailed occupation recode                    education  wage per hour  \\\n0                           0         High school graduate      -0.201629   \n1                          34   Some college but no degree      -0.201629   \n2                           0                   10th grade      -0.201629   \n\n  enroll in edu inst last wk    marital stat           major industry code  \\\n0            Not in universe         Widowed   Not in universe or children   \n1            Not in universe        Divorced                  Construction   \n2                High school   Never married   Not in universe or children   \n\n                  major occupation code  ... country of birth mother  \\\n0                       Not in universe  ...           United-States   \n1   Precision production craft & repair  ...           United-States   \n2                       Not in universe  ...                 Vietnam   \n\n  country of birth self                           citizenship  \\\n0         United-States     Native- Born in the United States   \n1         United-States     Native- Born in the United States   \n2               Vietnam   Foreign born- Not a citizen of U S    \n\n  own business or self employed fill inc questionnaire for veteran's admin  \\\n0                             0                            Not in universe   \n1                             0                            Not in universe   \n2                             0                            Not in universe   \n\n  veterans benefits  weeks worked in year year target capital_change  \n0                 2             -0.949346   95     -1      -0.084396  \n1                 2              1.180804   94     -1      -0.084396  \n2                 2             -0.949346   95     -1      -0.084396  \n\n[3 rows x 40 columns]",
      "text/html": "<div>\n<style scoped>\n    .dataframe tbody tr th:only-of-type {\n        vertical-align: middle;\n    }\n\n    .dataframe tbody tr th {\n        vertical-align: top;\n    }\n\n    .dataframe thead th {\n        text-align: right;\n    }\n</style>\n<table border=\"1\" class=\"dataframe\">\n  <thead>\n    <tr style=\"text-align: right;\">\n      <th></th>\n      <th>age</th>\n      <th>class of worker</th>\n      <th>detailed industry recode</th>\n      <th>detailed occupation recode</th>\n      <th>education</th>\n      <th>wage per hour</th>\n      <th>enroll in edu inst last wk</th>\n      <th>marital stat</th>\n      <th>major industry code</th>\n      <th>major occupation code</th>\n      <th>...</th>\n      <th>country of birth mother</th>\n      <th>country of birth self</th>\n      <th>citizenship</th>\n      <th>own business or self employed</th>\n      <th>fill inc questionnaire for veteran's admin</th>\n      <th>veterans benefits</th>\n      <th>weeks worked in year</th>\n      <th>year</th>\n      <th>target</th>\n      <th>capital_change</th>\n    </tr>\n  </thead>\n  <tbody>\n    <tr>\n      <th>0</th>\n      <td>1.725879</td>\n      <td>Not in universe</td>\n      <td>0</td>\n      <td>0</td>\n      <td>High school graduate</td>\n      <td>-0.201629</td>\n      <td>Not in universe</td>\n      <td>Widowed</td>\n      <td>Not in universe or children</td>\n      <td>Not in universe</td>\n      <td>...</td>\n      <td>United-States</td>\n      <td>United-States</td>\n      <td>Native- Born in the United States</td>\n      <td>0</td>\n      <td>Not in universe</td>\n      <td>2</td>\n      <td>-0.949346</td>\n      <td>95</td>\n      <td>-1</td>\n      <td>-0.084396</td>\n    </tr>\n    <tr>\n      <th>1</th>\n      <td>1.053560</td>\n      <td>Self-employed-not incorporated</td>\n      <td>4</td>\n      <td>34</td>\n      <td>Some college but no degree</td>\n      <td>-0.201629</td>\n      <td>Not in universe</td>\n      <td>Divorced</td>\n      <td>Construction</td>\n      <td>Precision production craft &amp; repair</td>\n      <td>...</td>\n      <td>United-States</td>\n      <td>United-States</td>\n      <td>Native- Born in the United States</td>\n      <td>0</td>\n      <td>Not in universe</td>\n      <td>2</td>\n      <td>1.180804</td>\n      <td>94</td>\n      <td>-1</td>\n      <td>-0.084396</td>\n    </tr>\n    <tr>\n      <th>2</th>\n      <td>-0.739291</td>\n      <td>Not in universe</td>\n      <td>0</td>\n      <td>0</td>\n      <td>10th grade</td>\n      <td>-0.201629</td>\n      <td>High school</td>\n      <td>Never married</td>\n      <td>Not in universe or children</td>\n      <td>Not in universe</td>\n      <td>...</td>\n      <td>Vietnam</td>\n      <td>Vietnam</td>\n      <td>Foreign born- Not a citizen of U S</td>\n      <td>0</td>\n      <td>Not in universe</td>\n      <td>2</td>\n      <td>-0.949346</td>\n      <td>95</td>\n      <td>-1</td>\n      <td>-0.084396</td>\n    </tr>\n  </tbody>\n</table>\n<p>3 rows × 40 columns</p>\n</div>"
     },
     "execution_count": 9,
     "metadata": {},
     "output_type": "execute_result"
    }
   ],
   "source": [
    "train_data.numerical_scaling()\n",
    "train_data.df.head(3)"
   ],
   "metadata": {
    "collapsed": false,
    "pycharm": {
     "name": "#%%\n"
    }
   }
  },
  {
   "cell_type": "code",
   "execution_count": 10,
   "outputs": [
    {
     "data": {
      "text/plain": "        age  class of worker  detailed industry recode  \\\n0  1.725879        -0.981964                 -0.982003   \n1  1.053560        -0.741859                 -0.821858   \n2 -0.739291        -0.981964                 -0.982003   \n\n   detailed occupation recode  education  wage per hour  \\\n0                   -0.982003  -0.922367      -0.201629   \n1                   -0.851925  -0.871531      -0.201629   \n2                   -0.982003  -0.983591      -0.201629   \n\n   enroll in edu inst last wk  marital stat  major industry code  \\\n0                   -0.867853     -0.936921            -0.982003   \n1                   -0.867853     -0.832258            -0.821858   \n2                   -0.998549     -0.974169            -0.982003   \n\n   major occupation code  ...  country of birth mother  country of birth self  \\\n0              -0.982003  ...                -0.870538              -0.874015   \n1              -0.818407  ...                -0.870538              -0.874015   \n2              -0.982003  ...                -0.953488              -0.943734   \n\n   citizenship  own business or self employed  \\\n0    -0.874017                      -0.884299   \n1    -0.874017                      -0.884299   \n2    -0.926573                      -0.884299   \n\n   fill inc questionnaire for veteran's admin  veterans benefits  \\\n0                                   -0.876976          -0.838127   \n1                                   -0.876976          -0.838127   \n2                                   -0.876976          -0.838127   \n\n   weeks worked in year      year  target  capital_change  \n0             -0.949346 -0.868741      -1       -0.084396  \n1              1.180804 -0.883018      -1       -0.084396  \n2             -0.949346 -0.868741      -1       -0.084396  \n\n[3 rows x 40 columns]",
      "text/html": "<div>\n<style scoped>\n    .dataframe tbody tr th:only-of-type {\n        vertical-align: middle;\n    }\n\n    .dataframe tbody tr th {\n        vertical-align: top;\n    }\n\n    .dataframe thead th {\n        text-align: right;\n    }\n</style>\n<table border=\"1\" class=\"dataframe\">\n  <thead>\n    <tr style=\"text-align: right;\">\n      <th></th>\n      <th>age</th>\n      <th>class of worker</th>\n      <th>detailed industry recode</th>\n      <th>detailed occupation recode</th>\n      <th>education</th>\n      <th>wage per hour</th>\n      <th>enroll in edu inst last wk</th>\n      <th>marital stat</th>\n      <th>major industry code</th>\n      <th>major occupation code</th>\n      <th>...</th>\n      <th>country of birth mother</th>\n      <th>country of birth self</th>\n      <th>citizenship</th>\n      <th>own business or self employed</th>\n      <th>fill inc questionnaire for veteran's admin</th>\n      <th>veterans benefits</th>\n      <th>weeks worked in year</th>\n      <th>year</th>\n      <th>target</th>\n      <th>capital_change</th>\n    </tr>\n  </thead>\n  <tbody>\n    <tr>\n      <th>0</th>\n      <td>1.725879</td>\n      <td>-0.981964</td>\n      <td>-0.982003</td>\n      <td>-0.982003</td>\n      <td>-0.922367</td>\n      <td>-0.201629</td>\n      <td>-0.867853</td>\n      <td>-0.936921</td>\n      <td>-0.982003</td>\n      <td>-0.982003</td>\n      <td>...</td>\n      <td>-0.870538</td>\n      <td>-0.874015</td>\n      <td>-0.874017</td>\n      <td>-0.884299</td>\n      <td>-0.876976</td>\n      <td>-0.838127</td>\n      <td>-0.949346</td>\n      <td>-0.868741</td>\n      <td>-1</td>\n      <td>-0.084396</td>\n    </tr>\n    <tr>\n      <th>1</th>\n      <td>1.053560</td>\n      <td>-0.741859</td>\n      <td>-0.821858</td>\n      <td>-0.851925</td>\n      <td>-0.871531</td>\n      <td>-0.201629</td>\n      <td>-0.867853</td>\n      <td>-0.832258</td>\n      <td>-0.821858</td>\n      <td>-0.818407</td>\n      <td>...</td>\n      <td>-0.870538</td>\n      <td>-0.874015</td>\n      <td>-0.874017</td>\n      <td>-0.884299</td>\n      <td>-0.876976</td>\n      <td>-0.838127</td>\n      <td>1.180804</td>\n      <td>-0.883018</td>\n      <td>-1</td>\n      <td>-0.084396</td>\n    </tr>\n    <tr>\n      <th>2</th>\n      <td>-0.739291</td>\n      <td>-0.981964</td>\n      <td>-0.982003</td>\n      <td>-0.982003</td>\n      <td>-0.983591</td>\n      <td>-0.201629</td>\n      <td>-0.998549</td>\n      <td>-0.974169</td>\n      <td>-0.982003</td>\n      <td>-0.982003</td>\n      <td>...</td>\n      <td>-0.953488</td>\n      <td>-0.943734</td>\n      <td>-0.926573</td>\n      <td>-0.884299</td>\n      <td>-0.876976</td>\n      <td>-0.838127</td>\n      <td>-0.949346</td>\n      <td>-0.868741</td>\n      <td>-1</td>\n      <td>-0.084396</td>\n    </tr>\n  </tbody>\n</table>\n<p>3 rows × 40 columns</p>\n</div>"
     },
     "execution_count": 10,
     "metadata": {},
     "output_type": "execute_result"
    }
   ],
   "source": [
    "train_data.categorical_encoding()\n",
    "train_data.df.head(3)"
   ],
   "metadata": {
    "collapsed": false,
    "pycharm": {
     "name": "#%%\n"
    }
   }
  },
  {
   "cell_type": "code",
   "execution_count": 11,
   "metadata": {},
   "outputs": [],
   "source": [
    "train_data.split_X_y('train')"
   ]
  },
  {
   "cell_type": "code",
   "execution_count": 12,
   "outputs": [
    {
     "data": {
      "text/plain": "0        -1\n1        -1\n2        -1\n3        -1\n4        -1\n         ..\n199518   -1\n199519   -1\n199520   -1\n199521   -1\n199522   -1\nName: target, Length: 199523, dtype: int64"
     },
     "execution_count": 12,
     "metadata": {},
     "output_type": "execute_result"
    }
   ],
   "source": [
    "train_data.y_train"
   ],
   "metadata": {
    "collapsed": false,
    "pycharm": {
     "name": "#%%\n"
    }
   }
  },
  {
   "cell_type": "code",
   "execution_count": 13,
   "outputs": [],
   "source": [
    "train_data.pickle_data(phase='train')"
   ],
   "metadata": {
    "collapsed": false,
    "pycharm": {
     "name": "#%%\n"
    }
   }
  },
  {
   "cell_type": "code",
   "execution_count": 14,
   "outputs": [],
   "source": [
    "test_data = DataPrep('./census_data/census_income_test.csv')\n",
    "test_data.apply_all(phase='test')"
   ],
   "metadata": {
    "collapsed": false,
    "pycharm": {
     "name": "#%%\n"
    }
   }
  }
 ],
 "metadata": {
  "kernelspec": {
   "display_name": "Python 3",
   "language": "python",
   "name": "python3"
  },
  "language_info": {
   "codemirror_mode": {
    "name": "ipython",
    "version": 3
   },
   "file_extension": ".py",
   "mimetype": "text/x-python",
   "name": "python",
   "nbconvert_exporter": "python",
   "pygments_lexer": "ipython3",
   "version": "3.6.8"
  }
 },
 "nbformat": 4,
 "nbformat_minor": 2
}