{
 "cells": [
  {
   "cell_type": "code",
   "execution_count": 124,
   "metadata": {
    "collapsed": true
   },
   "outputs": [],
   "source": [
    "import pandas as pd\n",
    "import pickle\n",
    "from typing import List\n",
    "from sklearn.preprocessing import StandardScaler, OneHotEncoder, LabelEncoder\n",
    "from category_encoders.target_encoder import TargetEncoder\n",
    "import warnings\n",
    "warnings.filterwarnings(\"ignore\")\n",
    "\n",
    "class DataPrep:\n",
    "\n",
    "    df: pd.DataFrame\n",
    "    metadata: str\n",
    "    col_names: List[str]\n",
    "\n",
    "    def __init__(self, data_path: str):\n",
    "        self.data_path = data_path\n",
    "        self.inhale_metadata()\n",
    "\n",
    "    def create_dataframe(self, print_=False):\n",
    "        self.df = pd.read_csv(self.data_path, header=None)\n",
    "        if print_:\n",
    "            print(self.df.head(3))\n",
    "\n",
    "    def inhale_metadata(self):\n",
    "        with open('./census_data/census_income_metadata.txt', 'r') as f:\n",
    "            self.metadata = f.read()\n",
    "\n",
    "    def get_col_names(self, print_=False):\n",
    "        self.col_names = [attr.split(':')[0] for attr in self.metadata.split('- 50000, 50000+.')[1].strip().split('\\n')]\n",
    "        self.col_names.remove('| instance weight'), self.col_names.append('target')\n",
    "        if print_:\n",
    "            print(self.col_names)\n",
    "\n",
    "    def set_col_names(self, print_=False):\n",
    "        self.df.columns = self.col_names\n",
    "        if print_:\n",
    "            print(self.df.head())\n",
    "\n",
    "    def feature_engineering(self):\n",
    "        \"\"\"metadata indicated this feature should be dropped\"\"\"\n",
    "        self.df.drop('instance weight', axis=1, inplace=True)\n",
    "\n",
    "        \"\"\"a single individual can't have both a capital gain AND a capital loss so condense those\"\"\"\n",
    "        self.df['capital_change'] = self.df['capital gains'] - self.df['capital losses']\n",
    "        self.df.drop(['capital gains', 'capital losses'], axis=1, inplace=True)\n",
    "\n",
    "        \"\"\"replace the target feature string values with integers\"\"\"\n",
    "        self.df['target'].replace({' - 50000.': -1, ' 50000+.': 1}, inplace=True)\n",
    "        \n",
    "    def numerical_scaling(self, data: pd.DataFrame):\n",
    "        scaler = StandardScaler()\n",
    "        return scaler.fit_transform(data)\n",
    "    \n",
    "    def categorical_encoding(self, data: pd.DataFrame, target: pd.Series = None, scheme: str = 'target'):\n",
    "        if scheme in ['one_hot', 'label']:\n",
    "            encoder = OneHotEncoder() if scheme == 'one_hot' else LabelEncoder()\n",
    "            return encoder.fit_transform(data)\n",
    "        else:\n",
    "            encoder = TargetEncoder()\n",
    "            encoder.fit(X=data, y=target)\n",
    "            return encoder.transform(data)\n",
    "    \n",
    "    def get_val_counts(self, cols: List[str]=None):\n",
    "        if cols is None: cols = self.df.columns\n",
    "        for col in cols:\n",
    "                print(f'{col}: \\n{self.df[col].value_counts()}\\n')\n",
    "\n",
    "    def apply_all(self, filename: str): #####TODO: add all methods to this method\n",
    "        self.create_dataframe()\n",
    "        if self.metadata is None: self.inhale_metadata()\n",
    "        self.get_col_names()\n",
    "        self.set_col_names()\n",
    "\n",
    "        self.pickle_data(filename)\n",
    "\n",
    "\n",
    "    def pickle_data(self, filename: str):\n",
    "        with open(f'./pickles/{filename}.obj', 'wb') as f:\n",
    "            pickle.dump(self.df, f)"
   ]
  },
  {
   "cell_type": "code",
   "execution_count": 125,
   "metadata": {
    "collapsed": false,
    "pycharm": {
     "name": "#%%\n"
    }
   },
   "outputs": [],
   "source": [
    "train_data = DataPrep('./census_data/census_income_learn.csv')"
   ]
  },
  {
   "cell_type": "code",
   "execution_count": 126,
   "metadata": {
    "collapsed": false,
    "pycharm": {
     "name": "#%%\n"
    }
   },
   "outputs": [
    {
     "name": "stdout",
     "output_type": "stream",
     "text": [
      "   0                                1   2   3                            4   \\\n",
      "0  73                  Not in universe   0   0         High school graduate   \n",
      "1  58   Self-employed-not incorporated   4  34   Some college but no degree   \n",
      "2  18                  Not in universe   0   0                   10th grade   \n",
      "\n",
      "   5                 6               7                             8   \\\n",
      "0   0   Not in universe         Widowed   Not in universe or children   \n",
      "1   0   Not in universe        Divorced                  Construction   \n",
      "2   0       High school   Never married   Not in universe or children   \n",
      "\n",
      "                                     9   ...              32              33  \\\n",
      "0                       Not in universe  ...   United-States   United-States   \n",
      "1   Precision production craft & repair  ...   United-States   United-States   \n",
      "2                       Not in universe  ...         Vietnam         Vietnam   \n",
      "\n",
      "               34                                    35 36                37  \\\n",
      "0   United-States     Native- Born in the United States  0   Not in universe   \n",
      "1   United-States     Native- Born in the United States  0   Not in universe   \n",
      "2         Vietnam   Foreign born- Not a citizen of U S   0   Not in universe   \n",
      "\n",
      "   38  39  40         41  \n",
      "0   2   0  95   - 50000.  \n",
      "1   2  52  94   - 50000.  \n",
      "2   2   0  95   - 50000.  \n",
      "\n",
      "[3 rows x 42 columns]\n"
     ]
    }
   ],
   "source": [
    "train_data.create_dataframe(print_=True)"
   ]
  },
  {
   "cell_type": "code",
   "execution_count": 127,
   "metadata": {
    "collapsed": false,
    "pycharm": {
     "name": "#%%\n"
    }
   },
   "outputs": [
    {
     "name": "stdout",
     "output_type": "stream",
     "text": [
      "['age', 'class of worker', 'detailed industry recode', 'detailed occupation recode', 'education', 'wage per hour', 'enroll in edu inst last wk', 'marital stat', 'major industry code', 'major occupation code', 'race', 'hispanic origin', 'sex', 'member of a labor union', 'reason for unemployment', 'full or part time employment stat', 'capital gains', 'capital losses', 'dividends from stocks', 'tax filer stat', 'region of previous residence', 'state of previous residence', 'detailed household and family stat', 'detailed household summary in household', 'instance weight', 'migration code-change in msa', 'migration code-change in reg', 'migration code-move within reg', 'live in this house 1 year ago', 'migration prev res in sunbelt', 'num persons worked for employer', 'family members under 18', 'country of birth father', 'country of birth mother', 'country of birth self', 'citizenship', 'own business or self employed', \"fill inc questionnaire for veteran's admin\", 'veterans benefits', 'weeks worked in year', 'year', 'target']\n"
     ]
    }
   ],
   "source": [
    "train_data.inhale_metadata()\n",
    "train_data.get_col_names(print_=True)"
   ]
  },
  {
   "cell_type": "code",
   "execution_count": 128,
   "metadata": {
    "collapsed": false,
    "pycharm": {
     "name": "#%%\n"
    }
   },
   "outputs": [
    {
     "name": "stdout",
     "output_type": "stream",
     "text": [
      "   age                  class of worker  detailed industry recode  \\\n",
      "0   73                  Not in universe                         0   \n",
      "1   58   Self-employed-not incorporated                         4   \n",
      "2   18                  Not in universe                         0   \n",
      "3    9                  Not in universe                         0   \n",
      "4   10                  Not in universe                         0   \n",
      "\n",
      "   detailed occupation recode                    education  wage per hour  \\\n",
      "0                           0         High school graduate              0   \n",
      "1                          34   Some college but no degree              0   \n",
      "2                           0                   10th grade              0   \n",
      "3                           0                     Children              0   \n",
      "4                           0                     Children              0   \n",
      "\n",
      "  enroll in edu inst last wk    marital stat           major industry code  \\\n",
      "0            Not in universe         Widowed   Not in universe or children   \n",
      "1            Not in universe        Divorced                  Construction   \n",
      "2                High school   Never married   Not in universe or children   \n",
      "3            Not in universe   Never married   Not in universe or children   \n",
      "4            Not in universe   Never married   Not in universe or children   \n",
      "\n",
      "                  major occupation code  ... country of birth father  \\\n",
      "0                       Not in universe  ...           United-States   \n",
      "1   Precision production craft & repair  ...           United-States   \n",
      "2                       Not in universe  ...                 Vietnam   \n",
      "3                       Not in universe  ...           United-States   \n",
      "4                       Not in universe  ...           United-States   \n",
      "\n",
      "  country of birth mother country of birth self  \\\n",
      "0           United-States         United-States   \n",
      "1           United-States         United-States   \n",
      "2                 Vietnam               Vietnam   \n",
      "3           United-States         United-States   \n",
      "4           United-States         United-States   \n",
      "\n",
      "                            citizenship own business or self employed  \\\n",
      "0     Native- Born in the United States                             0   \n",
      "1     Native- Born in the United States                             0   \n",
      "2   Foreign born- Not a citizen of U S                              0   \n",
      "3     Native- Born in the United States                             0   \n",
      "4     Native- Born in the United States                             0   \n",
      "\n",
      "  fill inc questionnaire for veteran's admin  veterans benefits  \\\n",
      "0                            Not in universe                  2   \n",
      "1                            Not in universe                  2   \n",
      "2                            Not in universe                  2   \n",
      "3                            Not in universe                  0   \n",
      "4                            Not in universe                  0   \n",
      "\n",
      "   weeks worked in year  year     target  \n",
      "0                     0    95   - 50000.  \n",
      "1                    52    94   - 50000.  \n",
      "2                     0    95   - 50000.  \n",
      "3                     0    94   - 50000.  \n",
      "4                     0    94   - 50000.  \n",
      "\n",
      "[5 rows x 42 columns]\n"
     ]
    }
   ],
   "source": [
    "train_data.set_col_names(print_=True)"
   ]
  },
  {
   "cell_type": "code",
   "execution_count": 129,
   "metadata": {
    "collapsed": false,
    "pycharm": {
     "name": "#%%\n"
    }
   },
   "outputs": [],
   "source": [
    "train_data.feature_engineering()"
   ]
  },
  {
   "cell_type": "code",
   "execution_count": 130,
   "metadata": {
    "collapsed": false,
    "pycharm": {
     "name": "#%%\n"
    }
   },
   "outputs": [
    {
     "name": "stdout",
     "output_type": "stream",
     "text": [
      "<class 'pandas.core.frame.DataFrame'>\n",
      "RangeIndex: 199523 entries, 0 to 199522\n",
      "Data columns (total 40 columns):\n",
      " #   Column                                      Non-Null Count   Dtype \n",
      "---  ------                                      --------------   ----- \n",
      " 0   age                                         199523 non-null  int64 \n",
      " 1   class of worker                             199523 non-null  object\n",
      " 2   detailed industry recode                    199523 non-null  int64 \n",
      " 3   detailed occupation recode                  199523 non-null  int64 \n",
      " 4   education                                   199523 non-null  object\n",
      " 5   wage per hour                               199523 non-null  int64 \n",
      " 6   enroll in edu inst last wk                  199523 non-null  object\n",
      " 7   marital stat                                199523 non-null  object\n",
      " 8   major industry code                         199523 non-null  object\n",
      " 9   major occupation code                       199523 non-null  object\n",
      " 10  race                                        199523 non-null  object\n",
      " 11  hispanic origin                             199523 non-null  object\n",
      " 12  sex                                         199523 non-null  object\n",
      " 13  member of a labor union                     199523 non-null  object\n",
      " 14  reason for unemployment                     199523 non-null  object\n",
      " 15  full or part time employment stat           199523 non-null  object\n",
      " 16  dividends from stocks                       199523 non-null  int64 \n",
      " 17  tax filer stat                              199523 non-null  object\n",
      " 18  region of previous residence                199523 non-null  object\n",
      " 19  state of previous residence                 199523 non-null  object\n",
      " 20  detailed household and family stat          199523 non-null  object\n",
      " 21  detailed household summary in household     199523 non-null  object\n",
      " 22  migration code-change in msa                199523 non-null  object\n",
      " 23  migration code-change in reg                199523 non-null  object\n",
      " 24  migration code-move within reg              199523 non-null  object\n",
      " 25  live in this house 1 year ago               199523 non-null  object\n",
      " 26  migration prev res in sunbelt               199523 non-null  object\n",
      " 27  num persons worked for employer             199523 non-null  int64 \n",
      " 28  family members under 18                     199523 non-null  object\n",
      " 29  country of birth father                     199523 non-null  object\n",
      " 30  country of birth mother                     199523 non-null  object\n",
      " 31  country of birth self                       199523 non-null  object\n",
      " 32  citizenship                                 199523 non-null  object\n",
      " 33  own business or self employed               199523 non-null  int64 \n",
      " 34  fill inc questionnaire for veteran's admin  199523 non-null  object\n",
      " 35  veterans benefits                           199523 non-null  int64 \n",
      " 36  weeks worked in year                        199523 non-null  int64 \n",
      " 37  year                                        199523 non-null  int64 \n",
      " 38  target                                      199523 non-null  int64 \n",
      " 39  capital_change                              199523 non-null  int64 \n",
      "dtypes: int64(12), object(28)\n",
      "memory usage: 60.9+ MB\n"
     ]
    }
   ],
   "source": [
    "train_data.df.info()"
   ]
  },
  {
   "cell_type": "code",
   "execution_count": 131,
   "metadata": {},
   "outputs": [
    {
     "data": {
      "text/html": [
       "<div>\n",
       "<style scoped>\n",
       "    .dataframe tbody tr th:only-of-type {\n",
       "        vertical-align: middle;\n",
       "    }\n",
       "\n",
       "    .dataframe tbody tr th {\n",
       "        vertical-align: top;\n",
       "    }\n",
       "\n",
       "    .dataframe thead th {\n",
       "        text-align: right;\n",
       "    }\n",
       "</style>\n",
       "<table border=\"1\" class=\"dataframe\">\n",
       "  <thead>\n",
       "    <tr style=\"text-align: right;\">\n",
       "      <th></th>\n",
       "      <th>age</th>\n",
       "      <th>class of worker</th>\n",
       "      <th>detailed industry recode</th>\n",
       "      <th>detailed occupation recode</th>\n",
       "      <th>education</th>\n",
       "      <th>wage per hour</th>\n",
       "      <th>enroll in edu inst last wk</th>\n",
       "      <th>marital stat</th>\n",
       "      <th>major industry code</th>\n",
       "      <th>major occupation code</th>\n",
       "      <th>...</th>\n",
       "      <th>country of birth mother</th>\n",
       "      <th>country of birth self</th>\n",
       "      <th>citizenship</th>\n",
       "      <th>own business or self employed</th>\n",
       "      <th>fill inc questionnaire for veteran's admin</th>\n",
       "      <th>veterans benefits</th>\n",
       "      <th>weeks worked in year</th>\n",
       "      <th>year</th>\n",
       "      <th>target</th>\n",
       "      <th>capital_change</th>\n",
       "    </tr>\n",
       "  </thead>\n",
       "  <tbody>\n",
       "    <tr>\n",
       "      <th>0</th>\n",
       "      <td>1.725879</td>\n",
       "      <td>Not in universe</td>\n",
       "      <td>0</td>\n",
       "      <td>0</td>\n",
       "      <td>High school graduate</td>\n",
       "      <td>-0.201629</td>\n",
       "      <td>Not in universe</td>\n",
       "      <td>Widowed</td>\n",
       "      <td>Not in universe or children</td>\n",
       "      <td>Not in universe</td>\n",
       "      <td>...</td>\n",
       "      <td>United-States</td>\n",
       "      <td>United-States</td>\n",
       "      <td>Native- Born in the United States</td>\n",
       "      <td>0</td>\n",
       "      <td>Not in universe</td>\n",
       "      <td>2</td>\n",
       "      <td>-0.949346</td>\n",
       "      <td>95</td>\n",
       "      <td>-1</td>\n",
       "      <td>-0.084396</td>\n",
       "    </tr>\n",
       "    <tr>\n",
       "      <th>1</th>\n",
       "      <td>1.053560</td>\n",
       "      <td>Self-employed-not incorporated</td>\n",
       "      <td>4</td>\n",
       "      <td>34</td>\n",
       "      <td>Some college but no degree</td>\n",
       "      <td>-0.201629</td>\n",
       "      <td>Not in universe</td>\n",
       "      <td>Divorced</td>\n",
       "      <td>Construction</td>\n",
       "      <td>Precision production craft &amp; repair</td>\n",
       "      <td>...</td>\n",
       "      <td>United-States</td>\n",
       "      <td>United-States</td>\n",
       "      <td>Native- Born in the United States</td>\n",
       "      <td>0</td>\n",
       "      <td>Not in universe</td>\n",
       "      <td>2</td>\n",
       "      <td>1.180804</td>\n",
       "      <td>94</td>\n",
       "      <td>-1</td>\n",
       "      <td>-0.084396</td>\n",
       "    </tr>\n",
       "    <tr>\n",
       "      <th>2</th>\n",
       "      <td>-0.739291</td>\n",
       "      <td>Not in universe</td>\n",
       "      <td>0</td>\n",
       "      <td>0</td>\n",
       "      <td>10th grade</td>\n",
       "      <td>-0.201629</td>\n",
       "      <td>High school</td>\n",
       "      <td>Never married</td>\n",
       "      <td>Not in universe or children</td>\n",
       "      <td>Not in universe</td>\n",
       "      <td>...</td>\n",
       "      <td>Vietnam</td>\n",
       "      <td>Vietnam</td>\n",
       "      <td>Foreign born- Not a citizen of U S</td>\n",
       "      <td>0</td>\n",
       "      <td>Not in universe</td>\n",
       "      <td>2</td>\n",
       "      <td>-0.949346</td>\n",
       "      <td>95</td>\n",
       "      <td>-1</td>\n",
       "      <td>-0.084396</td>\n",
       "    </tr>\n",
       "  </tbody>\n",
       "</table>\n",
       "<p>3 rows × 40 columns</p>\n",
       "</div>"
      ],
      "text/plain": [
       "        age                  class of worker  detailed industry recode  \\\n",
       "0  1.725879                  Not in universe                         0   \n",
       "1  1.053560   Self-employed-not incorporated                         4   \n",
       "2 -0.739291                  Not in universe                         0   \n",
       "\n",
       "   detailed occupation recode                    education  wage per hour  \\\n",
       "0                           0         High school graduate      -0.201629   \n",
       "1                          34   Some college but no degree      -0.201629   \n",
       "2                           0                   10th grade      -0.201629   \n",
       "\n",
       "  enroll in edu inst last wk    marital stat           major industry code  \\\n",
       "0            Not in universe         Widowed   Not in universe or children   \n",
       "1            Not in universe        Divorced                  Construction   \n",
       "2                High school   Never married   Not in universe or children   \n",
       "\n",
       "                  major occupation code  ... country of birth mother  \\\n",
       "0                       Not in universe  ...           United-States   \n",
       "1   Precision production craft & repair  ...           United-States   \n",
       "2                       Not in universe  ...                 Vietnam   \n",
       "\n",
       "  country of birth self                           citizenship  \\\n",
       "0         United-States     Native- Born in the United States   \n",
       "1         United-States     Native- Born in the United States   \n",
       "2               Vietnam   Foreign born- Not a citizen of U S    \n",
       "\n",
       "  own business or self employed fill inc questionnaire for veteran's admin  \\\n",
       "0                             0                            Not in universe   \n",
       "1                             0                            Not in universe   \n",
       "2                             0                            Not in universe   \n",
       "\n",
       "  veterans benefits  weeks worked in year year target capital_change  \n",
       "0                 2             -0.949346   95     -1      -0.084396  \n",
       "1                 2              1.180804   94     -1      -0.084396  \n",
       "2                 2             -0.949346   95     -1      -0.084396  \n",
       "\n",
       "[3 rows x 40 columns]"
      ]
     },
     "execution_count": 131,
     "metadata": {},
     "output_type": "execute_result"
    }
   ],
   "source": [
    "data_to_scale = train_data.df[['age', 'wage per hour', 'dividends from stocks', 'weeks worked in year', 'capital_change']]\n",
    "data_to_scale = train_data.numerical_scaling(data_to_scale)\n",
    "train_data.df[['age', 'wage per hour', 'dividends from stocks', 'weeks worked in year', 'capital_change']] = data_to_scale\n",
    "train_data.df.head(3)"
   ]
  },
  {
   "cell_type": "code",
   "execution_count": 132,
   "metadata": {},
   "outputs": [
    {
     "ename": "ValueError",
     "evalue": "Supervised encoders need a target for the fitting. The target cannot be None",
     "output_type": "error",
     "traceback": [
      "\u001b[1;31m---------------------------------------------------------------------------\u001b[0m",
      "\u001b[1;31mValueError\u001b[0m                                Traceback (most recent call last)",
      "\u001b[1;32m<ipython-input-132-a178b8956c7b>\u001b[0m in \u001b[0;36m<module>\u001b[1;34m\u001b[0m\n\u001b[0;32m      1\u001b[0m \u001b[0mdata_to_encode\u001b[0m \u001b[1;33m=\u001b[0m \u001b[0mtrain_data\u001b[0m\u001b[1;33m.\u001b[0m\u001b[0mdf\u001b[0m\u001b[1;33m[\u001b[0m\u001b[1;33m[\u001b[0m\u001b[1;34m'class of worker'\u001b[0m\u001b[1;33m,\u001b[0m \u001b[1;34m'detailed industry recode'\u001b[0m\u001b[1;33m,\u001b[0m \u001b[1;34m'detailed occupation recode'\u001b[0m\u001b[1;33m,\u001b[0m \u001b[1;34m'education'\u001b[0m\u001b[1;33m,\u001b[0m \u001b[1;34m'enroll in edu inst last wk'\u001b[0m\u001b[1;33m,\u001b[0m \u001b[1;34m'marital stat'\u001b[0m\u001b[1;33m,\u001b[0m \u001b[1;34m'major industry code'\u001b[0m\u001b[1;33m,\u001b[0m \u001b[1;34m'major occupation code'\u001b[0m\u001b[1;33m,\u001b[0m \u001b[1;34m'race'\u001b[0m\u001b[1;33m,\u001b[0m \u001b[1;34m'hispanic origin'\u001b[0m\u001b[1;33m,\u001b[0m \u001b[1;34m'sex'\u001b[0m\u001b[1;33m,\u001b[0m \u001b[1;34m'member of a labor union'\u001b[0m\u001b[1;33m,\u001b[0m \u001b[1;34m'reason for unemployment'\u001b[0m\u001b[1;33m,\u001b[0m \u001b[1;34m'full or part time employment stat'\u001b[0m\u001b[1;33m,\u001b[0m \u001b[1;34m'tax filer stat'\u001b[0m\u001b[1;33m,\u001b[0m \u001b[1;34m'region of previous residence'\u001b[0m\u001b[1;33m,\u001b[0m \u001b[1;34m'state of previous residence'\u001b[0m\u001b[1;33m,\u001b[0m \u001b[1;34m'detailed household and family stat'\u001b[0m\u001b[1;33m,\u001b[0m \u001b[1;34m'detailed household summary in household'\u001b[0m\u001b[1;33m,\u001b[0m \u001b[1;34m'migration code-change in msa'\u001b[0m\u001b[1;33m,\u001b[0m \u001b[1;34m'migration code-change in reg'\u001b[0m\u001b[1;33m,\u001b[0m \u001b[1;34m'migration code-move within reg'\u001b[0m\u001b[1;33m,\u001b[0m \u001b[1;34m'live in this house 1 year ago'\u001b[0m\u001b[1;33m,\u001b[0m \u001b[1;34m'migration prev res in sunbelt'\u001b[0m\u001b[1;33m,\u001b[0m \u001b[1;34m'num persons worked for employer'\u001b[0m\u001b[1;33m,\u001b[0m \u001b[1;34m'family members under 18'\u001b[0m\u001b[1;33m,\u001b[0m \u001b[1;34m'country of birth father'\u001b[0m\u001b[1;33m,\u001b[0m \u001b[1;34m'country of birth mother'\u001b[0m\u001b[1;33m,\u001b[0m \u001b[1;34m'country of birth self'\u001b[0m\u001b[1;33m,\u001b[0m \u001b[1;34m'citizenship'\u001b[0m\u001b[1;33m,\u001b[0m \u001b[1;34m'own business or self employed'\u001b[0m\u001b[1;33m,\u001b[0m \u001b[1;34m\"fill inc questionnaire for veteran's admin\"\u001b[0m\u001b[1;33m,\u001b[0m \u001b[1;34m'veterans benefits'\u001b[0m\u001b[1;33m,\u001b[0m \u001b[1;34m'year'\u001b[0m\u001b[1;33m]\u001b[0m\u001b[1;33m]\u001b[0m\u001b[1;33m\u001b[0m\u001b[1;33m\u001b[0m\u001b[0m\n\u001b[0;32m      2\u001b[0m \u001b[0mtarget\u001b[0m \u001b[1;33m=\u001b[0m \u001b[0mtrain_data\u001b[0m\u001b[1;33m.\u001b[0m\u001b[0mdf\u001b[0m\u001b[1;33m[\u001b[0m\u001b[1;34m'target'\u001b[0m\u001b[1;33m]\u001b[0m\u001b[1;33m\u001b[0m\u001b[1;33m\u001b[0m\u001b[0m\n\u001b[1;32m----> 3\u001b[1;33m \u001b[0mdata_to_encode\u001b[0m \u001b[1;33m=\u001b[0m \u001b[0mtrain_data\u001b[0m\u001b[1;33m.\u001b[0m\u001b[0mcategorical_encoding\u001b[0m\u001b[1;33m(\u001b[0m\u001b[0mtrain_data\u001b[0m\u001b[1;33m.\u001b[0m\u001b[0mdf\u001b[0m\u001b[1;33m[\u001b[0m\u001b[1;33m[\u001b[0m\u001b[1;34m'class of worker'\u001b[0m\u001b[1;33m,\u001b[0m \u001b[1;34m'detailed industry recode'\u001b[0m\u001b[1;33m]\u001b[0m\u001b[1;33m]\u001b[0m\u001b[1;33m,\u001b[0m \u001b[0mscheme\u001b[0m\u001b[1;33m=\u001b[0m\u001b[1;34m'target'\u001b[0m\u001b[1;33m)\u001b[0m\u001b[1;33m\u001b[0m\u001b[1;33m\u001b[0m\u001b[0m\n\u001b[0m\u001b[0;32m      4\u001b[0m \u001b[0mtrain_data\u001b[0m\u001b[1;33m.\u001b[0m\u001b[0mdf\u001b[0m\u001b[1;33m[\u001b[0m\u001b[1;33m[\u001b[0m\u001b[1;34m'class of worker'\u001b[0m\u001b[1;33m,\u001b[0m \u001b[1;34m'detailed industry recode'\u001b[0m\u001b[1;33m,\u001b[0m \u001b[1;34m'detailed occupation recode'\u001b[0m\u001b[1;33m,\u001b[0m \u001b[1;34m'education'\u001b[0m\u001b[1;33m,\u001b[0m \u001b[1;34m'enroll in edu inst last wk'\u001b[0m\u001b[1;33m,\u001b[0m \u001b[1;34m'marital stat'\u001b[0m\u001b[1;33m,\u001b[0m \u001b[1;34m'major industry code'\u001b[0m\u001b[1;33m,\u001b[0m \u001b[1;34m'major occupation code'\u001b[0m\u001b[1;33m,\u001b[0m \u001b[1;34m'race'\u001b[0m\u001b[1;33m,\u001b[0m \u001b[1;34m'hispanic origin'\u001b[0m\u001b[1;33m,\u001b[0m \u001b[1;34m'sex'\u001b[0m\u001b[1;33m,\u001b[0m \u001b[1;34m'member of a labor union'\u001b[0m\u001b[1;33m,\u001b[0m \u001b[1;34m'reason for unemployment'\u001b[0m\u001b[1;33m,\u001b[0m \u001b[1;34m'full or part time employment stat'\u001b[0m\u001b[1;33m,\u001b[0m \u001b[1;34m'tax filer stat'\u001b[0m\u001b[1;33m,\u001b[0m \u001b[1;34m'region of previous residence'\u001b[0m\u001b[1;33m,\u001b[0m \u001b[1;34m'state of previous residence'\u001b[0m\u001b[1;33m,\u001b[0m \u001b[1;34m'detailed household and family stat'\u001b[0m\u001b[1;33m,\u001b[0m \u001b[1;34m'detailed household summary in household'\u001b[0m\u001b[1;33m,\u001b[0m \u001b[1;34m'migration code-change in msa'\u001b[0m\u001b[1;33m,\u001b[0m \u001b[1;34m'migration code-change in reg'\u001b[0m\u001b[1;33m,\u001b[0m \u001b[1;34m'migration code-move within reg'\u001b[0m\u001b[1;33m,\u001b[0m \u001b[1;34m'live in this house 1 year ago'\u001b[0m\u001b[1;33m,\u001b[0m \u001b[1;34m'migration prev res in sunbelt'\u001b[0m\u001b[1;33m,\u001b[0m \u001b[1;34m'num persons worked for employer'\u001b[0m\u001b[1;33m,\u001b[0m \u001b[1;34m'family members under 18'\u001b[0m\u001b[1;33m,\u001b[0m \u001b[1;34m'country of birth father'\u001b[0m\u001b[1;33m,\u001b[0m \u001b[1;34m'country of birth mother'\u001b[0m\u001b[1;33m,\u001b[0m \u001b[1;34m'country of birth self'\u001b[0m\u001b[1;33m,\u001b[0m \u001b[1;34m'citizenship'\u001b[0m\u001b[1;33m,\u001b[0m \u001b[1;34m'own business or self employed'\u001b[0m\u001b[1;33m,\u001b[0m \u001b[1;34m\"fill inc questionnaire for veteran's admin\"\u001b[0m\u001b[1;33m,\u001b[0m \u001b[1;34m'veterans benefits'\u001b[0m\u001b[1;33m,\u001b[0m \u001b[1;34m'year'\u001b[0m\u001b[1;33m]\u001b[0m\u001b[1;33m]\u001b[0m \u001b[1;33m=\u001b[0m \u001b[0mdata_to_encode\u001b[0m\u001b[1;33m\u001b[0m\u001b[1;33m\u001b[0m\u001b[0m\n\u001b[0;32m      5\u001b[0m \u001b[0mtrain_data\u001b[0m\u001b[1;33m.\u001b[0m\u001b[0mdf\u001b[0m\u001b[1;33m.\u001b[0m\u001b[0mhead\u001b[0m\u001b[1;33m(\u001b[0m\u001b[1;36m3\u001b[0m\u001b[1;33m)\u001b[0m\u001b[1;33m\u001b[0m\u001b[1;33m\u001b[0m\u001b[0m\n",
      "\u001b[1;32m<ipython-input-124-dcb5af4da691>\u001b[0m in \u001b[0;36mcategorical_encoding\u001b[1;34m(self, data, target, scheme)\u001b[0m\n\u001b[0;32m     58\u001b[0m         \u001b[1;32melse\u001b[0m\u001b[1;33m:\u001b[0m\u001b[1;33m\u001b[0m\u001b[1;33m\u001b[0m\u001b[0m\n\u001b[0;32m     59\u001b[0m             \u001b[0mencoder\u001b[0m \u001b[1;33m=\u001b[0m \u001b[0mTargetEncoder\u001b[0m\u001b[1;33m(\u001b[0m\u001b[1;33m)\u001b[0m\u001b[1;33m\u001b[0m\u001b[1;33m\u001b[0m\u001b[0m\n\u001b[1;32m---> 60\u001b[1;33m             \u001b[0mencoder\u001b[0m\u001b[1;33m.\u001b[0m\u001b[0mfit\u001b[0m\u001b[1;33m(\u001b[0m\u001b[0mX\u001b[0m\u001b[1;33m=\u001b[0m\u001b[0mdata\u001b[0m\u001b[1;33m,\u001b[0m \u001b[0my\u001b[0m\u001b[1;33m=\u001b[0m\u001b[0mtarget\u001b[0m\u001b[1;33m)\u001b[0m\u001b[1;33m\u001b[0m\u001b[1;33m\u001b[0m\u001b[0m\n\u001b[0m\u001b[0;32m     61\u001b[0m             \u001b[1;32mreturn\u001b[0m \u001b[0mencoder\u001b[0m\u001b[1;33m.\u001b[0m\u001b[0mtransform\u001b[0m\u001b[1;33m(\u001b[0m\u001b[0mdata\u001b[0m\u001b[1;33m)\u001b[0m\u001b[1;33m\u001b[0m\u001b[1;33m\u001b[0m\u001b[0m\n\u001b[0;32m     62\u001b[0m \u001b[1;33m\u001b[0m\u001b[0m\n",
      "\u001b[1;32m~\\AppData\\Local\\Continuum\\anaconda3\\lib\\site-packages\\category_encoders\\target_encoder.py\u001b[0m in \u001b[0;36mfit\u001b[1;34m(self, X, y, **kwargs)\u001b[0m\n\u001b[0;32m    115\u001b[0m         \u001b[1;31m# unite the input into pandas types\u001b[0m\u001b[1;33m\u001b[0m\u001b[1;33m\u001b[0m\u001b[1;33m\u001b[0m\u001b[0m\n\u001b[0;32m    116\u001b[0m         \u001b[0mX\u001b[0m \u001b[1;33m=\u001b[0m \u001b[0mutil\u001b[0m\u001b[1;33m.\u001b[0m\u001b[0mconvert_input\u001b[0m\u001b[1;33m(\u001b[0m\u001b[0mX\u001b[0m\u001b[1;33m)\u001b[0m\u001b[1;33m\u001b[0m\u001b[1;33m\u001b[0m\u001b[0m\n\u001b[1;32m--> 117\u001b[1;33m         \u001b[0my\u001b[0m \u001b[1;33m=\u001b[0m \u001b[0mutil\u001b[0m\u001b[1;33m.\u001b[0m\u001b[0mconvert_input_vector\u001b[0m\u001b[1;33m(\u001b[0m\u001b[0my\u001b[0m\u001b[1;33m,\u001b[0m \u001b[0mX\u001b[0m\u001b[1;33m.\u001b[0m\u001b[0mindex\u001b[0m\u001b[1;33m)\u001b[0m\u001b[1;33m\u001b[0m\u001b[1;33m\u001b[0m\u001b[0m\n\u001b[0m\u001b[0;32m    118\u001b[0m \u001b[1;33m\u001b[0m\u001b[0m\n\u001b[0;32m    119\u001b[0m         \u001b[1;32mif\u001b[0m \u001b[0mX\u001b[0m\u001b[1;33m.\u001b[0m\u001b[0mshape\u001b[0m\u001b[1;33m[\u001b[0m\u001b[1;36m0\u001b[0m\u001b[1;33m]\u001b[0m \u001b[1;33m!=\u001b[0m \u001b[0my\u001b[0m\u001b[1;33m.\u001b[0m\u001b[0mshape\u001b[0m\u001b[1;33m[\u001b[0m\u001b[1;36m0\u001b[0m\u001b[1;33m]\u001b[0m\u001b[1;33m:\u001b[0m\u001b[1;33m\u001b[0m\u001b[1;33m\u001b[0m\u001b[0m\n",
      "\u001b[1;32m~\\AppData\\Local\\Continuum\\anaconda3\\lib\\site-packages\\category_encoders\\utils.py\u001b[0m in \u001b[0;36mconvert_input_vector\u001b[1;34m(y, index)\u001b[0m\n\u001b[0;32m     76\u001b[0m     \"\"\"\n\u001b[0;32m     77\u001b[0m     \u001b[1;32mif\u001b[0m \u001b[0my\u001b[0m \u001b[1;32mis\u001b[0m \u001b[1;32mNone\u001b[0m\u001b[1;33m:\u001b[0m\u001b[1;33m\u001b[0m\u001b[1;33m\u001b[0m\u001b[0m\n\u001b[1;32m---> 78\u001b[1;33m         \u001b[1;32mraise\u001b[0m \u001b[0mValueError\u001b[0m\u001b[1;33m(\u001b[0m\u001b[1;34m'Supervised encoders need a target for the fitting. The target cannot be None'\u001b[0m\u001b[1;33m)\u001b[0m\u001b[1;33m\u001b[0m\u001b[1;33m\u001b[0m\u001b[0m\n\u001b[0m\u001b[0;32m     79\u001b[0m     \u001b[1;32mif\u001b[0m \u001b[0misinstance\u001b[0m\u001b[1;33m(\u001b[0m\u001b[0my\u001b[0m\u001b[1;33m,\u001b[0m \u001b[0mpd\u001b[0m\u001b[1;33m.\u001b[0m\u001b[0mSeries\u001b[0m\u001b[1;33m)\u001b[0m\u001b[1;33m:\u001b[0m\u001b[1;33m\u001b[0m\u001b[1;33m\u001b[0m\u001b[0m\n\u001b[0;32m     80\u001b[0m         \u001b[1;32mreturn\u001b[0m \u001b[0my\u001b[0m\u001b[1;33m\u001b[0m\u001b[1;33m\u001b[0m\u001b[0m\n",
      "\u001b[1;31mValueError\u001b[0m: Supervised encoders need a target for the fitting. The target cannot be None"
     ]
    }
   ],
   "source": [
    "data_to_encode = train_data.df[['class of worker', 'detailed industry recode', 'detailed occupation recode', 'education', 'enroll in edu inst last wk', 'marital stat', 'major industry code', 'major occupation code', 'race', 'hispanic origin', 'sex', 'member of a labor union', 'reason for unemployment', 'full or part time employment stat', 'tax filer stat', 'region of previous residence', 'state of previous residence', 'detailed household and family stat', 'detailed household summary in household', 'migration code-change in msa', 'migration code-change in reg', 'migration code-move within reg', 'live in this house 1 year ago', 'migration prev res in sunbelt', 'num persons worked for employer', 'family members under 18', 'country of birth father', 'country of birth mother', 'country of birth self', 'citizenship', 'own business or self employed', \"fill inc questionnaire for veteran's admin\", 'veterans benefits', 'year']]\n",
    "target = train_data.df['target']\n",
    "data_to_encode = train_data.categorical_encoding(train_data.df[['class of worker', 'detailed industry recode']], scheme='target')\n",
    "train_data.df[['class of worker', 'detailed industry recode', 'detailed occupation recode', 'education', 'enroll in edu inst last wk', 'marital stat', 'major industry code', 'major occupation code', 'race', 'hispanic origin', 'sex', 'member of a labor union', 'reason for unemployment', 'full or part time employment stat', 'tax filer stat', 'region of previous residence', 'state of previous residence', 'detailed household and family stat', 'detailed household summary in household', 'migration code-change in msa', 'migration code-change in reg', 'migration code-move within reg', 'live in this house 1 year ago', 'migration prev res in sunbelt', 'num persons worked for employer', 'family members under 18', 'country of birth father', 'country of birth mother', 'country of birth self', 'citizenship', 'own business or self employed', \"fill inc questionnaire for veteran's admin\", 'veterans benefits', 'year']] = data_to_encode\n",
    "train_data.df.head(3)"
   ]
  },
  {
   "cell_type": "code",
   "execution_count": null,
   "metadata": {},
   "outputs": [],
   "source": [
    "train_data.get_val_counts()"
   ]
  },
  {
   "cell_type": "code",
   "execution_count": null,
   "metadata": {},
   "outputs": [],
   "source": [
    "train_data.df.columns"
   ]
  },
  {
   "cell_type": "code",
   "execution_count": null,
   "metadata": {
    "collapsed": false,
    "pycharm": {
     "name": "#%%\n"
    }
   },
   "outputs": [],
   "source": [
    "# train_data.pickle_data('df_train')"
   ]
  },
  {
   "cell_type": "code",
   "execution_count": null,
   "metadata": {
    "collapsed": false,
    "pycharm": {
     "name": "#%%\n"
    }
   },
   "outputs": [],
   "source": [
    "# test_data = DataPrep('./census_data/census_income_test.csv')\n",
    "# test_data.apply_all('df_test')"
   ]
  }
 ],
 "metadata": {
  "kernelspec": {
   "display_name": "Python 3",
   "language": "python",
   "name": "python3"
  },
  "language_info": {
   "codemirror_mode": {
    "name": "ipython",
    "version": 3
   },
   "file_extension": ".py",
   "mimetype": "text/x-python",
   "name": "python",
   "nbconvert_exporter": "python",
   "pygments_lexer": "ipython3",
   "version": "3.6.8"
  }
 },
 "nbformat": 4,
 "nbformat_minor": 2
}
