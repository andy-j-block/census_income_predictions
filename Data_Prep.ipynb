{
 "cells": [
  {
   "cell_type": "code",
   "execution_count": 5,
   "metadata": {
    "collapsed": true
   },
   "outputs": [],
   "source": [
    "import pandas as pd\n",
    "from typing import List\n",
    "\n",
    "class DataPrep:\n",
    "\n",
    "    df: pd.DataFrame\n",
    "    metadata: str\n",
    "    col_names: List[str]\n",
    "\n",
    "    def __init__(self, data_path: str):\n",
    "        self.data_path = data_path\n",
    "        self.inhale_metadata()\n",
    "\n",
    "    def create_dataframe(self, print_=False):\n",
    "        self.df = pd.read_csv(self.data_path, header=None)\n",
    "        if print_:\n",
    "            print(self.df.head(3))\n",
    "\n",
    "    def inhale_metadata(self):\n",
    "        with open('./census_data/census_income_metadata.txt', 'r') as f:\n",
    "            self.metadata = f.read()\n",
    "\n",
    "    def get_col_names(self, print_=False):\n",
    "        self.col_names = [attr.split(':')[0] for attr in self.metadata.split('- 50000, 50000+.')[1].strip().split('\\n')]\n",
    "        self.col_names.remove('| instance weight'), self.col_names.append('target')\n",
    "        if print_:\n",
    "            print(self.col_names)\n",
    "\n",
    "    def set_col_names(self, print_=False):\n",
    "        self.df.columns = self.col_names\n",
    "        if print_:\n",
    "            print(self.df.head())\n"
   ]
  },
  {
   "cell_type": "code",
   "execution_count": 6,
   "outputs": [],
   "source": [
    "data_prep = DataPrep('./census_data/census_income_learn.csv')"
   ],
   "metadata": {
    "collapsed": false,
    "pycharm": {
     "name": "#%%\n"
    }
   }
  },
  {
   "cell_type": "code",
   "execution_count": 7,
   "outputs": [
    {
     "name": "stdout",
     "output_type": "stream",
     "text": [
      "   0                                1   2   3                            4   \\\n",
      "0  73                  Not in universe   0   0         High school graduate   \n",
      "1  58   Self-employed-not incorporated   4  34   Some college but no degree   \n",
      "2  18                  Not in universe   0   0                   10th grade   \n",
      "\n",
      "   5                 6               7                             8   \\\n",
      "0   0   Not in universe         Widowed   Not in universe or children   \n",
      "1   0   Not in universe        Divorced                  Construction   \n",
      "2   0       High school   Never married   Not in universe or children   \n",
      "\n",
      "                                     9   ...              32              33  \\\n",
      "0                       Not in universe  ...   United-States   United-States   \n",
      "1   Precision production craft & repair  ...   United-States   United-States   \n",
      "2                       Not in universe  ...         Vietnam         Vietnam   \n",
      "\n",
      "               34                                    35 36                37  \\\n",
      "0   United-States     Native- Born in the United States  0   Not in universe   \n",
      "1   United-States     Native- Born in the United States  0   Not in universe   \n",
      "2         Vietnam   Foreign born- Not a citizen of U S   0   Not in universe   \n",
      "\n",
      "   38  39  40         41  \n",
      "0   2   0  95   - 50000.  \n",
      "1   2  52  94   - 50000.  \n",
      "2   2   0  95   - 50000.  \n",
      "\n",
      "[3 rows x 42 columns]\n"
     ]
    }
   ],
   "source": [
    "data_prep.create_dataframe(print_=True)"
   ],
   "metadata": {
    "collapsed": false,
    "pycharm": {
     "name": "#%%\n"
    }
   }
  },
  {
   "cell_type": "code",
   "execution_count": 8,
   "outputs": [
    {
     "name": "stdout",
     "output_type": "stream",
     "text": [
      "['age', 'class of worker', 'detailed industry recode', 'detailed occupation recode', 'education', 'wage per hour', 'enroll in edu inst last wk', 'marital stat', 'major industry code', 'major occupation code', 'race', 'hispanic origin', 'sex', 'member of a labor union', 'reason for unemployment', 'full or part time employment stat', 'capital gains', 'capital losses', 'dividends from stocks', 'tax filer stat', 'region of previous residence', 'state of previous residence', 'detailed household and family stat', 'detailed household summary in household', 'instance weight', 'migration code-change in msa', 'migration code-change in reg', 'migration code-move within reg', 'live in this house 1 year ago', 'migration prev res in sunbelt', 'num persons worked for employer', 'family members under 18', 'country of birth father', 'country of birth mother', 'country of birth self', 'citizenship', 'own business or self employed', \"fill inc questionnaire for veteran's admin\", 'veterans benefits', 'weeks worked in year', 'year', 'target']\n"
     ]
    }
   ],
   "source": [
    "data_prep.inhale_metadata()\n",
    "data_prep.get_col_names(print_=True)"
   ],
   "metadata": {
    "collapsed": false,
    "pycharm": {
     "name": "#%%\n"
    }
   }
  },
  {
   "cell_type": "code",
   "execution_count": 9,
   "outputs": [
    {
     "name": "stdout",
     "output_type": "stream",
     "text": [
      "   age                  class of worker  detailed industry recode  \\\n",
      "0   73                  Not in universe                         0   \n",
      "1   58   Self-employed-not incorporated                         4   \n",
      "2   18                  Not in universe                         0   \n",
      "3    9                  Not in universe                         0   \n",
      "4   10                  Not in universe                         0   \n",
      "\n",
      "   detailed occupation recode                    education  wage per hour  \\\n",
      "0                           0         High school graduate              0   \n",
      "1                          34   Some college but no degree              0   \n",
      "2                           0                   10th grade              0   \n",
      "3                           0                     Children              0   \n",
      "4                           0                     Children              0   \n",
      "\n",
      "  enroll in edu inst last wk    marital stat           major industry code  \\\n",
      "0            Not in universe         Widowed   Not in universe or children   \n",
      "1            Not in universe        Divorced                  Construction   \n",
      "2                High school   Never married   Not in universe or children   \n",
      "3            Not in universe   Never married   Not in universe or children   \n",
      "4            Not in universe   Never married   Not in universe or children   \n",
      "\n",
      "                  major occupation code  ... country of birth father  \\\n",
      "0                       Not in universe  ...           United-States   \n",
      "1   Precision production craft & repair  ...           United-States   \n",
      "2                       Not in universe  ...                 Vietnam   \n",
      "3                       Not in universe  ...           United-States   \n",
      "4                       Not in universe  ...           United-States   \n",
      "\n",
      "  country of birth mother country of birth self  \\\n",
      "0           United-States         United-States   \n",
      "1           United-States         United-States   \n",
      "2                 Vietnam               Vietnam   \n",
      "3           United-States         United-States   \n",
      "4           United-States         United-States   \n",
      "\n",
      "                            citizenship own business or self employed  \\\n",
      "0     Native- Born in the United States                             0   \n",
      "1     Native- Born in the United States                             0   \n",
      "2   Foreign born- Not a citizen of U S                              0   \n",
      "3     Native- Born in the United States                             0   \n",
      "4     Native- Born in the United States                             0   \n",
      "\n",
      "  fill inc questionnaire for veteran's admin  veterans benefits  \\\n",
      "0                            Not in universe                  2   \n",
      "1                            Not in universe                  2   \n",
      "2                            Not in universe                  2   \n",
      "3                            Not in universe                  0   \n",
      "4                            Not in universe                  0   \n",
      "\n",
      "   weeks worked in year  year     target  \n",
      "0                     0    95   - 50000.  \n",
      "1                    52    94   - 50000.  \n",
      "2                     0    95   - 50000.  \n",
      "3                     0    94   - 50000.  \n",
      "4                     0    94   - 50000.  \n",
      "\n",
      "[5 rows x 42 columns]\n"
     ]
    }
   ],
   "source": [
    "data_prep.set_col_names(print_=True)"
   ],
   "metadata": {
    "collapsed": false,
    "pycharm": {
     "name": "#%%\n"
    }
   }
  },
  {
   "cell_type": "code",
   "execution_count": null,
   "outputs": [],
   "source": [],
   "metadata": {
    "collapsed": false,
    "pycharm": {
     "name": "#%%\n"
    }
   }
  }
 ],
 "metadata": {
  "kernelspec": {
   "display_name": "Python 3",
   "language": "python",
   "name": "python3"
  },
  "language_info": {
   "codemirror_mode": {
    "name": "ipython",
    "version": 2
   },
   "file_extension": ".py",
   "mimetype": "text/x-python",
   "name": "python",
   "nbconvert_exporter": "python",
   "pygments_lexer": "ipython2",
   "version": "2.7.6"
  }
 },
 "nbformat": 4,
 "nbformat_minor": 0
}